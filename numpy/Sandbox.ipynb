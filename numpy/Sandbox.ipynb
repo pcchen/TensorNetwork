{
 "cells": [
  {
   "cell_type": "code",
   "execution_count": 1,
   "metadata": {},
   "outputs": [],
   "source": [
    "import numpy as np"
   ]
  },
  {
   "cell_type": "code",
   "execution_count": 2,
   "metadata": {},
   "outputs": [
    {
     "name": "stdout",
     "output_type": "stream",
     "text": [
      "(2, 3, 4, 5, 6, 7)\n",
      "(2, 5, 3, 7, 4, 6)\n",
      "(2, 5, 3, 7, 4, 6)\n"
     ]
    }
   ],
   "source": [
    "x = np.zeros((2, 3, 4, 5, 6, 7))\n",
    "print(x.shape)\n",
    "print(np.moveaxis(x, [3, 5], [1, 3]).shape)\n",
    "print(np.transpose(x, [0, 3, 1, 5, 2, 4]).shape)"
   ]
  },
  {
   "cell_type": "code",
   "execution_count": 3,
   "metadata": {},
   "outputs": [
    {
     "name": "stdout",
     "output_type": "stream",
     "text": [
      "(2, 3, 4, 5)\n",
      "(6, 7, 8, 3)\n",
      "(2, 4, 5, 6, 7, 8)\n",
      "(2, 6, 4, 8, 5, 7)\n",
      "(12, 32, 5, 7)\n",
      "(12, 7, 32, 5)\n"
     ]
    }
   ],
   "source": [
    "x = np.zeros((2, 3, 4, 5))\n",
    "y = np.zeros((6, 7, 8, 3))\n",
    "print(x.shape)\n",
    "print(y.shape)\n",
    "xy = np.tensordot(x, y, axes=([1], [3]))\n",
    "print(xy.shape)\n",
    "xy = np.transpose(xy, [0, 3, 1, 5, 2, 4])\n",
    "print(xy.shape)\n",
    "dim=xy.shape\n",
    "xy = xy.reshape(dim[0]*dim[1], dim[2]*dim[3], dim[4], dim[5])\n",
    "print(xy.shape)\n",
    "xy = np.transpose(xy, [0, 3, 1, 2])\n",
    "print(xy.shape)"
   ]
  },
  {
   "cell_type": "code",
   "execution_count": 5,
   "metadata": {},
   "outputs": [
    {
     "name": "stdout",
     "output_type": "stream",
     "text": [
      "(2, 3, 4, 5)\n",
      "(6, 7, 2, 8)\n",
      "(3, 4, 5, 6, 7, 8)\n",
      "(3, 7, 4, 5, 8, 6)\n",
      "(21, 4, 40, 6)\n",
      "(6, 21, 4, 40)\n"
     ]
    }
   ],
   "source": [
    "x = np.zeros((2, 3, 4, 5))\n",
    "y = np.zeros((6, 7, 2, 8))\n",
    "print(x.shape)\n",
    "print(y.shape)\n",
    "xy = np.tensordot(x, y, axes=([0], [2]))\n",
    "print(xy.shape)\n",
    "xy = np.transpose(xy, [0, 4, 1, 2, 5, 3])\n",
    "print(xy.shape)\n",
    "dim=xy.shape\n",
    "xy = xy.reshape(dim[0]*dim[1], dim[2], dim[3]*dim[4], dim[5])\n",
    "print(xy.shape)\n",
    "xy = np.transpose(xy, [3, 0, 1, 2])\n",
    "print(xy.shape)"
   ]
  },
  {
   "cell_type": "code",
   "execution_count": null,
   "metadata": {},
   "outputs": [],
   "source": []
  },
  {
   "cell_type": "code",
   "execution_count": null,
   "metadata": {},
   "outputs": [],
   "source": []
  }
 ],
 "metadata": {
  "kernelspec": {
   "display_name": "Python 3",
   "language": "python",
   "name": "python3"
  },
  "language_info": {
   "codemirror_mode": {
    "name": "ipython",
    "version": 3
   },
   "file_extension": ".py",
   "mimetype": "text/x-python",
   "name": "python",
   "nbconvert_exporter": "python",
   "pygments_lexer": "ipython3",
   "version": "3.7.3"
  }
 },
 "nbformat": 4,
 "nbformat_minor": 4
}
