{
 "cells": [
  {
   "cell_type": "markdown",
   "metadata": {},
   "source": [
    "# 2D Ising model: Exact solution\n",
    "\n",
    "References:\n",
    "* B. Kaufman, Phys. Rev. 76, 1232 (1949).\n",
    "* A. E. Ferdinand and M. P. A. Fisher, Phys. Rev. 185, 832 (1969).\n",
    "* Statistical Mechanics, Third Edition by R K Pathria and Paul D. Beale. (Ch 13.4)"
   ]
  },
  {
   "cell_type": "markdown",
   "metadata": {},
   "source": [
    "Consider 2D Ising model with the Hamiltonian \n",
    "$$\n",
    "H= -J \\sum_{\\langle i,j\\rangle} s_i s_j.\n",
    "$$\n",
    "The canonical partition function reads:\n",
    "$$\n",
    "  Z(K) = \\frac{1}{2} \\left(2\\sinh(2K)\\right)^{mn/2} (Z_1(K) + Z_2(K) + Z_3(K) + Z_4(K)),\n",
    "$$\n",
    "where $K=J/k_b T$ and "
   ]
  },
  {
   "cell_type": "markdown",
   "metadata": {},
   "source": [
    "$$ Z_1(K) = \\prod_{r=0}^{n-1} 2\\cosh(\\frac{m}{2} \\gamma_{2r+1}), \\; Z_2(K) = \\prod_{r=0}^{n-1} 2\\sinh(\\frac{m}{2} \\gamma_{2r+1}), $$\n",
    "$$ Z_3(K) = \\prod_{r=0}^{n-1} 2\\cosh(\\frac{m}{2} \\gamma_{2r1}), \\; Z_4(K) = \\prod_{r=0}^{n-1} 2\\sinh(\\frac{m}{2} \\gamma_{2r1}). $$"
   ]
  },
  {
   "cell_type": "markdown",
   "metadata": {},
   "source": [
    "The parameter $\\gamma_r, r=0, \\cdots 2n-1$ are given by following relations:\n",
    "\n",
    "$$\n",
    "  \\cosh(\\gamma_r)=\\cosh(2K)\\coth(2K) - \\cos(\\frac{r \\pi}{n}) =\\frac{\\cosh(2K)^2}{\\sinh(2K)} - \\cos(\\frac{r \\pi}{n}) \n",
    "  \\rightarrow e^{\\gamma_0} = e^{2K}\\tanh(K).\n",
    "$$\n",
    "\n",
    "So that\n",
    "$$\n",
    "  \\gamma_0 = 2K + \\ln(\\tanh(K)), \\; \\gamma_r  =\\text{arccosh}(c_r) = \\ln[c_r + (c^2_r-1)^{1/2}],\n",
    "$$\n",
    "where\n",
    "$$\n",
    "  c_r =\\cosh(2K)\\coth(2K) - \\cos(\\frac{r \\pi}{n}) = \\frac{\\cosh(2K)^2}{\\sinh(2K)} - \\cos(\\frac{r \\pi}{n})\n",
    "  = \\sinh(2K) + \\frac{1}{\\sinh(2K)} - \\cos(\\frac{r \\pi}{n}).\n",
    "$$"
   ]
  },
  {
   "cell_type": "markdown",
   "metadata": {},
   "source": [
    "The first deratives of $\\gamma_r$ are:\n",
    "\n",
    "$$ \n",
    "  \\gamma^\\prime_0 = 2 + \\frac{1}{\\tanh(K)} \\frac{1}{\\cosh^2(K)}\n",
    "  = 2 + \\frac{2}{\\sinh(2K)}\n",
    "  = 2 (1 + \\frac{1}{\\sinh(2K)}).\n",
    "$$\n",
    "\n",
    "$$\n",
    "  \\gamma^\\prime_r = \\frac{c^\\prime_r}{\\sqrt{c^2_r-1}} = c^\\prime (c^2_r-1)^{-1/2}.\n",
    "$$"
   ]
  },
  {
   "cell_type": "markdown",
   "metadata": {},
   "source": [
    "The second deratives of $\\gamma_r$ are:\n",
    "\n",
    "$$\n",
    "  \\gamma_0^{\\prime\\prime} \n",
    "  = -4 \\csch(2K) \\coth(2K)\n",
    "  = -4 \\frac{\\cosh{2K}}{\\sinh(2K)^2}.\n",
    "$$"
   ]
  },
  {
   "cell_type": "markdown",
   "metadata": {},
   "source": [
    "$$\n",
    "  \\gamma_r^{\\prime\\prime} = \\frac{c_r^{\\prime\\prime}}{\\sqrt{c^2-1}} - \\frac{ (c^\\prime_r)^2 c_r }{ (c^2_r-1)^{3/2} }\n",
    "  = c^{\\prime\\prime} (c^2_r-1)^{-1/2} - (c^\\prime)^2 c_r (c^2_r-1)^{-3/2}\n",
    "$$"
   ]
  },
  {
   "cell_type": "markdown",
   "metadata": {},
   "source": [
    "The first and second deratives of $c_r$ are: (they are independent of $r$!)\n",
    "\n",
    "$$\n",
    "  c^\\prime = c^\\prime_r = \\cosh(2K)[4-2\\csch^2(2K)] = 2 \\cosh(2K)(1-\\frac{1}{\\sinh(2K)^2}).\n",
    "$$\n",
    "\n",
    "$$\n",
    "  c^{\\prime\\prime} = c^{\\prime\\prime}_r = 8\\csch(2K)^3 \\cosh(2K)^2+4(\\sinh(2K)-\\csch(2K))\n",
    "  =  \\frac{8\\cosh(2K)^2}{\\sinh(2K)^3} + 4[ \\sinh(2K) - \\frac{1}{\\sinh(2K)}].\n",
    "$$"
   ]
  },
  {
   "cell_type": "markdown",
   "metadata": {},
   "source": [
    "The log of the partition function reads:\n",
    "$$\n",
    "  \\ln Z = \\ln( \\frac{1}{2} ) + \\frac{nm}{2} \\ln( 2\\sinh(2K) ) + \\ln(Z1(K)+Z2(K)+Z3(K)+Z4(K)),\n",
    "$$\n",
    "or\n",
    "$$\n",
    "  \\ln Z = \\ln( \\frac{1}{2} ) + \\frac{nm}{2} \\ln( 2\\sinh(2K) ) + \\ln(Z1(K))\n",
    "  + \\ln\\left[ 1+ \\frac{Z2(K)}{Z1(K)}+\\frac{Z3(K)}{Z1(K)}+\\frac{Z4(K)}{Z1(K)} \\right].\n",
    "$$"
   ]
  },
  {
   "cell_type": "markdown",
   "metadata": {},
   "source": [
    "where\n",
    "$$\n",
    "  \\ln(Z_1(K)) = \\sum_{r=0}^{n-1} \\ln( 2 \\cosh(\\frac{m}{2} \\gamma_{2r+1}).\n",
    "$$\n",
    "and\n",
    "$$\n",
    "  \\frac{Z_2}{Z_1} = \\sum_{r=0}^{n-1} \\frac{\\sinh(\\frac{m}{2}\\gamma_{2r+1})}{\\cosh(\\frac{m}{2}\\gamma_{2r+1})}, \\;\n",
    "  \\frac{Z_3}{Z_1} = \\sum_{r=0}^{n-1} \\frac{\\cosh(\\frac{m}{2}\\gamma_{2r})}{\\cosh(\\frac{m}{2}\\gamma_{2r+1})}, \\;\n",
    "  \\frac{Z_4}{Z_1} = \\sum_{r=0}^{n-1} \\frac{\\sinh(\\frac{m}{2}\\gamma_{2r})}{\\cosh(\\frac{m}{2}\\gamma_{2r+1})}.\n",
    "$$"
   ]
  },
  {
   "cell_type": "markdown",
   "metadata": {},
   "source": [
    "The energy per site is given by\n",
    "$$\n",
    "  \\frac{U_{nm}}{nm} = - \\frac{1}{nm} J \\frac{d}{dK} \\ln Z_{nm}\n",
    "  =-J \\coth(2K) - \\frac{J}{mn} \\frac{Z_1^\\prime(K)+Z_2^\\prime(K)+Z_3^\\prime(K)+Z_4^\\prime(K)}{Z_1(K)+Z_2(K)+Z_3(K)+Z_4(K)}\n",
    "  =-J \\coth(2K) - \\frac{J}{mn} \n",
    "  \\frac{\\frac{Z_1^\\prime}{Z_1}+\\frac{Z_2^\\prime}{Z_2}\\frac{Z_2}{Z_1}+\\frac{Z_3^\\prime}{Z_3}\\frac{Z_3}{Z_1}+\\frac{Z_4^\\prime}{Z_4}\\frac{Z_4}{Z_1}}\n",
    "  {1+\\frac{Z_2}{Z_1}+\\frac{Z_2}{Z_1}+\\frac{Z_3}{Z_1}+\\frac{Z_4}{Z_1}}.\n",
    "$$\n",
    "where\n",
    "The first derivatives:\n",
    "\n",
    "$$ \n",
    "  \\frac{Z^\\prime_1}{Z_1} = \\frac{m}{2} \\sum_{r=0}^{n-1} \\gamma^\\prime_{2r+1} \\tanh\\left( \\frac{m}{2}\\gamma_{2r+1} \\right), \\;\n",
    "  \\frac{Z^\\prime_2}{Z_2} = \\frac{m}{2} \\sum_{r=0}^{n-1} \\gamma^\\prime_{2r+1} \\coth\\left( \\frac{m}{2}\\gamma_{2r+1} \\right).\n",
    "$$\n",
    "\n",
    "$$\n",
    "  \\frac{Z^\\prime_3}{Z_3} = \\frac{m}{2} \\sum_{r=0}^{n-1} \\gamma^\\prime_{2r} \\tanh\\left( \\frac{m}{2}\\gamma_{2r} \\right), \\;\n",
    "  \\frac{Z^\\prime_4}{Z_4} = \\frac{m}{2} \\sum_{r=0}^{n-1} \\gamma^\\prime_{2r} \\tanh\\left( \\frac{m}{2}\\gamma_{2r} \\right).\n",
    "$$\n"
   ]
  },
  {
   "cell_type": "markdown",
   "metadata": {},
   "source": [
    "The specific heat per spin is give by\n",
    "$$\n",
    "  \\frac{C_{nm}}{nm} = \\frac{1}{nm} K^2 \\frac{d^2}{dK^2} \\ln Z_{nm}\n",
    "  = -\\frac{2K^2}{\\sinh(2K)^2} + \\frac{K^2}{nm} \n",
    "  \\left[ \n",
    "    \\frac{Z^{\\prime\\prime}_1 + Z^{\\prime\\prime}_2 + Z^{\\prime\\prime}_3 + Z^{\\prime\\prime}_4}{Z_1 + Z_2 + Z_3 + Z_4}\n",
    "    - \n",
    "    \\left[\\frac{Z^{\\prime}_1 + Z^{\\prime}_2 + Z^{\\prime}_3 + Z^{\\prime}_4}{Z_1 + Z_2 + Z_3 + Z_4}\\right]^2\n",
    "  \\right]\n",
    "$$\n",
    "\n",
    "\n",
    "$$\n",
    "  \\frac{C_{nm}}{nm} \n",
    "  = -\\frac{2K^2}{\\sinh(2K)^2} + \\frac{K^2}{nm} \n",
    "  \\left[ \n",
    "    \\frac{\\frac{Z_1^\\prime}{Z_1}+\\frac{Z_2^\\prime}{Z_2}\\frac{Z_2}{Z_1}+\\frac{Z_3^\\prime}{Z_3}\\frac{Z_3}{Z_1}+\\frac{Z_4^\\prime}{Z_4}\\frac{Z_4}{Z_1}}{1+\\frac{Z_2}{Z_1}+\\frac{Z_2}{Z_1}+\\frac{Z_3}{Z_1}+\\frac{Z_4}{Z_1}}\n",
    "    - \n",
    "    \\left[\\frac{\\frac{Z_1^\\prime}{Z_1}+\\frac{Z_2^\\prime}{Z_2}\\frac{Z_2}{Z_1}+\\frac{Z_3^\\prime}{Z_3}\\frac{Z_3}{Z_1}+\\frac{Z_4^\\prime}{Z_4}\\frac{Z_4}{Z_1}}\n",
    "  {1+\\frac{Z_2}{Z_1}+\\frac{Z_2}{Z_1}+\\frac{Z_3}{Z_1}+\\frac{Z_4}{Z_1}}\\right]^2\n",
    "  \\right]\n",
    "$$"
   ]
  },
  {
   "cell_type": "markdown",
   "metadata": {},
   "source": [
    "The second derivatives:\n",
    "\n",
    "$$\n",
    "  \\frac{Z^{\\prime\\prime}_1}{Z_1} = \n",
    "  \\left[ \\frac{m}{2} \\sum_{r=0}^{n-1} \\gamma^\\prime_{2r+1} \\tanh\\left( \\frac{m}{2}\\gamma_{2r+1} \\right) \\right]^2\n",
    "  + \\frac{m}{2} \\sum_{n=0}^{n-1} \n",
    "  \\left[ \\gamma^{\\prime \\prime} \\tanh\\left( \\frac{m}{2}\\gamma_{2r+1} \\right)\n",
    "  + \\frac{m}{2} \\gamma^{\\prime} \\cosh^{-2}\\left( \\frac{m}{2}\\gamma_{2r+1} \\right) \\right],\n",
    "$$\n",
    "\n",
    "$$\n",
    "  \\frac{Z^{\\prime\\prime}_2}{Z_2} = \n",
    "  \\left[ \\frac{m}{2} \\sum_{r=0}^{n-1} \\gamma^\\prime_{2r+1} \\coth\\left( \\frac{m}{2}\\gamma_{2r+1} \\right) \\right]^2\n",
    "  + \\frac{m}{2} \\sum_{n=0}^{n-1} \n",
    "  \\left[ \\gamma^{\\prime \\prime} \\coth\\left( \\frac{m}{2}\\gamma_{2r+1} \\right)\n",
    "  - \\frac{m}{2} \\gamma^{\\prime} \\sinh^{-2}\\left( \\frac{m}{2}\\gamma_{2r+1} \\right) \\right],\n",
    "$$\n",
    "\n",
    "$$\n",
    "  \\frac{Z^{\\prime\\prime}_3}{Z_3} = \n",
    "  \\left[ \\frac{m}{2} \\sum_{r=0}^{n-1} \\gamma^\\prime_{2r} \\tanh\\left( \\frac{m}{2}\\gamma_{2r} \\right) \\right]^2\n",
    "  + \\frac{m}{2} \\sum_{n=0}^{n-1} \n",
    "  \\left[ \\gamma^{\\prime \\prime} \\tanh\\left( \\frac{m}{2}\\gamma_{2r+1} \\right)\n",
    "  + \\frac{m}{2} \\gamma^{\\prime} \\cosh^{-2}\\left( \\frac{m}{2}\\gamma_{2r+1} \\right) \\right],\n",
    "$$\n",
    "\n",
    "$$\n",
    "  \\frac{Z^{\\prime\\prime}_4}{Z_4} = \n",
    "  \\left[ \\frac{m}{2} \\sum_{r=0}^{n-1} \\gamma^\\prime_{2r} \\coth\\left( \\frac{m}{2}\\gamma_{2r} \\right) \\right]^2\n",
    "  + \\frac{m}{2} \\sum_{n=0}^{n-1} \n",
    "  \\left[ \\gamma^{\\prime \\prime} \\coth\\left( \\frac{m}{2}\\gamma_{2r+1} \\right)\n",
    "  - \\frac{m}{2} \\gamma^{\\prime} \\sinh^{-2}\\left( \\frac{m}{2}\\gamma_{2r+1} \\right) \\right].\n",
    "$$"
   ]
  },
  {
   "cell_type": "code",
   "execution_count": null,
   "metadata": {},
   "outputs": [],
   "source": []
  }
 ],
 "metadata": {
  "kernelspec": {
   "display_name": "Python 3",
   "language": "python",
   "name": "python3"
  },
  "language_info": {
   "codemirror_mode": {
    "name": "ipython",
    "version": 3
   },
   "file_extension": ".py",
   "mimetype": "text/x-python",
   "name": "python",
   "nbconvert_exporter": "python",
   "pygments_lexer": "ipython3",
   "version": "3.7.3"
  }
 },
 "nbformat": 4,
 "nbformat_minor": 4
}
