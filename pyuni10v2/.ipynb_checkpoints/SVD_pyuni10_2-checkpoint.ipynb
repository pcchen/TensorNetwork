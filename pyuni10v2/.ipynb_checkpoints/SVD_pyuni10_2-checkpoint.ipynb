{
 "cells": [
  {
   "cell_type": "code",
   "execution_count": 1,
   "metadata": {},
   "outputs": [],
   "source": [
    "import numpy as np\n",
    "import pyuni10 as uni10"
   ]
  },
  {
   "cell_type": "code",
   "execution_count": 2,
   "metadata": {},
   "outputs": [
    {
     "name": "stdout",
     "output_type": "stream",
     "text": [
      "IN : (U1 = 0, P = 0, 0)|2, Dim = 2\n",
      "\n",
      "OUT: (U1 = 0, P = 0, 0)|2, Dim = 2\n",
      "\n"
     ]
    }
   ],
   "source": [
    "ket = uni10.Bond(uni10.BD_IN, 2)\n",
    "bra = uni10.Bond(uni10.BD_OUT, 2)\n",
    "print(ket)\n",
    "print(bra)"
   ]
  },
  {
   "cell_type": "code",
   "execution_count": 3,
   "metadata": {},
   "outputs": [
    {
     "name": "stdout",
     "output_type": "stream",
     "text": [
      "\n",
      "***************** T *****************\n",
      "REAL(0)\n",
      "\n",
      "             ____________\n",
      "            |            |\n",
      "        0___|2          2|___2    \n",
      "            |            |   \n",
      "        1___|2          2|___3    \n",
      "            |            |   \n",
      "            |____________|\n",
      "\n",
      "================BONDS===============\n",
      "IN : (U1 = 0, P = 0, 0)|2, Dim = 2\n",
      "IN : (U1 = 0, P = 0, 0)|2, Dim = 2\n",
      "OUT: (U1 = 0, P = 0, 0)|2, Dim = 2\n",
      "OUT: (U1 = 0, P = 0, 0)|2, Dim = 2\n",
      "\n",
      "===============BLOCKS===============\n",
      "--- (U1 = 0, P = 0, 0): \n",
      "4 x 4 = 16 [ Actual Usage: 0 ], REAL\n",
      "\n",
      "[ \n",
      "   0.       1.0000   2.0000   3.0000\n",
      "   4.0000   5.0000   6.0000   7.0000\n",
      "   8.0000   9.0000  10.0000  11.0000\n",
      "  12.0000  13.0000  14.0000  15.0000\n",
      "];\n",
      "Total elemNum: 16\n",
      "====================================\n",
      "\n",
      "\n",
      "\n"
     ]
    }
   ],
   "source": [
    "# create a tensor without any element\n",
    "T = uni10.UniTensorR([ket, ket, bra, bra])\n",
    "T.SetName('T')\n",
    "T.SetRawElem(np.array(range(16)))\n",
    "print(T)"
   ]
  },
  {
   "cell_type": "markdown",
   "metadata": {},
   "source": [
    " ## tensor permutation"
   ]
  },
  {
   "cell_type": "code",
   "execution_count": 4,
   "metadata": {},
   "outputs": [
    {
     "name": "stdout",
     "output_type": "stream",
     "text": [
      "\n",
      "***************** T *****************\n",
      "REAL(0)\n",
      "\n",
      "             ____________\n",
      "            |            |\n",
      "            |           2|___0    \n",
      "            |            |   \n",
      "            |           2|___1    \n",
      "            |            |   \n",
      "            |           2|___2    \n",
      "            |            |   \n",
      "            |           2|___3    \n",
      "            |            |   \n",
      "            |____________|\n",
      "\n",
      "================BONDS===============\n",
      "OUT: (U1 = 0, P = 0, 0)|2, Dim = 2\n",
      "OUT: (U1 = 0, P = 0, 0)|2, Dim = 2\n",
      "OUT: (U1 = 0, P = 0, 0)|2, Dim = 2\n",
      "OUT: (U1 = 0, P = 0, 0)|2, Dim = 2\n",
      "\n",
      "===============BLOCKS===============\n",
      "--- (U1 = 0, P = 0, 0): \n",
      "1 x 16 = 16 [ Actual Usage: 0 ], REAL\n",
      "\n",
      "[    0.       1.0000   2.0000   3.0000   4.0000   5.0000   6.0000   7.0000   8.0000   9.0000  10.0000  11.0000  12.0000  13.0000  14.0000  15.0000 ];\n",
      "Total elemNum: 16\n",
      "====================================\n",
      "\n",
      "\n",
      "\n"
     ]
    }
   ],
   "source": [
    "uni10.Permute(T, [0, 1, 2, 3], 0)\n",
    "print(T)"
   ]
  },
  {
   "cell_type": "code",
   "execution_count": 5,
   "metadata": {},
   "outputs": [
    {
     "name": "stdout",
     "output_type": "stream",
     "text": [
      "\n",
      "***************** T *****************\n",
      "REAL(0)\n",
      "\n",
      "             ____________\n",
      "            |            |\n",
      "        0___|2          2|___3    \n",
      "            |            |   \n",
      "        1___|2           |\n",
      "            |            |   \n",
      "        2___|2           |\n",
      "            |            |   \n",
      "            |____________|\n",
      "\n",
      "================BONDS===============\n",
      "IN : (U1 = 0, P = 0, 0)|2, Dim = 2\n",
      "IN : (U1 = 0, P = 0, 0)|2, Dim = 2\n",
      "IN : (U1 = 0, P = 0, 0)|2, Dim = 2\n",
      "OUT: (U1 = 0, P = 0, 0)|2, Dim = 2\n",
      "\n",
      "===============BLOCKS===============\n",
      "--- (U1 = 0, P = 0, 0): \n",
      "8 x 2 = 16 [ Actual Usage: 0 ], REAL\n",
      "\n",
      "[ \n",
      "   0.       1.0000\n",
      "   2.0000   3.0000\n",
      "   4.0000   5.0000\n",
      "   6.0000   7.0000\n",
      "   8.0000   9.0000\n",
      "  10.0000  11.0000\n",
      "  12.0000  13.0000\n",
      "  14.0000  15.0000\n",
      "];\n",
      "Total elemNum: 16\n",
      "====================================\n",
      "\n",
      "\n",
      "\n"
     ]
    }
   ],
   "source": [
    "uni10.Permute(T, [0, 1, 2, 3], 3)\n",
    "print(T)"
   ]
  },
  {
   "cell_type": "code",
   "execution_count": 6,
   "metadata": {},
   "outputs": [
    {
     "name": "stdout",
     "output_type": "stream",
     "text": [
      "\n",
      "***************** T *****************\n",
      "REAL(0)\n",
      "\n",
      "             ____________\n",
      "            |            |\n",
      "        0___|2           |\n",
      "            |            |   \n",
      "        1___|2           |\n",
      "            |            |   \n",
      "        2___|2           |\n",
      "            |            |   \n",
      "        3___|2           |\n",
      "            |            |   \n",
      "            |____________|\n",
      "\n",
      "================BONDS===============\n",
      "IN : (U1 = 0, P = 0, 0)|2, Dim = 2\n",
      "IN : (U1 = 0, P = 0, 0)|2, Dim = 2\n",
      "IN : (U1 = 0, P = 0, 0)|2, Dim = 2\n",
      "IN : (U1 = 0, P = 0, 0)|2, Dim = 2\n",
      "\n",
      "===============BLOCKS===============\n",
      "--- (U1 = 0, P = 0, 0): \n",
      "16 x 1 = 16 [ Actual Usage: 0 ], REAL\n",
      "\n",
      "[ \n",
      "   0.    \n",
      "   1.0000\n",
      "   2.0000\n",
      "   3.0000\n",
      "   4.0000\n",
      "   5.0000\n",
      "   6.0000\n",
      "   7.0000\n",
      "   8.0000\n",
      "   9.0000\n",
      "  10.0000\n",
      "  11.0000\n",
      "  12.0000\n",
      "  13.0000\n",
      "  14.0000\n",
      "  15.0000\n",
      "];\n",
      "Total elemNum: 16\n",
      "====================================\n",
      "\n",
      "\n",
      "\n"
     ]
    }
   ],
   "source": [
    "uni10.Permute(T, [0, 1, 2, 3], 4)\n",
    "print(T)"
   ]
  },
  {
   "cell_type": "code",
   "execution_count": 7,
   "metadata": {},
   "outputs": [
    {
     "ename": "RuntimeError",
     "evalue": "\n# Uni10 error occur at void uni10::Permute(UniTensor<UniType> &, const UniTensor<UniType> &, const std::vector<uni10_int> &, uni10_int, uni10::UNI10_INPLACE) [UniType = double]\n# error: The input new labels do not 1-1 correspond to the labels of the tensor.\n# file : /private/var/folders/26/5351ptkn06s590c1x8fv1jdm0000gn/T/pip-install-cuwd8i8n/pyuni10/include/uni10_api/uni10_hirnk_linalg_inplace/uni10_hirnk_linalg_inplace_permute.h (60)",
     "output_type": "error",
     "traceback": [
      "\u001b[0;31m---------------------------------------------------------------------------\u001b[0m",
      "\u001b[0;31mRuntimeError\u001b[0m                              Traceback (most recent call last)",
      "\u001b[0;32m<ipython-input-7-e8a05961c6ba>\u001b[0m in \u001b[0;36m<module>\u001b[0;34m()\u001b[0m\n\u001b[1;32m      1\u001b[0m \u001b[0;31m# cannot rename label during permutation\u001b[0m\u001b[0;34m\u001b[0m\u001b[0;34m\u001b[0m\u001b[0;34m\u001b[0m\u001b[0m\n\u001b[0;32m----> 2\u001b[0;31m \u001b[0muni10\u001b[0m\u001b[0;34m.\u001b[0m\u001b[0mPermute\u001b[0m\u001b[0;34m(\u001b[0m\u001b[0mT\u001b[0m\u001b[0;34m,\u001b[0m \u001b[0;34m[\u001b[0m\u001b[0;36m0\u001b[0m\u001b[0;34m,\u001b[0m \u001b[0;36m1\u001b[0m\u001b[0;34m,\u001b[0m \u001b[0;36m2\u001b[0m\u001b[0;34m,\u001b[0m \u001b[0;36m6\u001b[0m\u001b[0;34m]\u001b[0m\u001b[0;34m,\u001b[0m \u001b[0;36m2\u001b[0m\u001b[0;34m)\u001b[0m\u001b[0;34m\u001b[0m\u001b[0;34m\u001b[0m\u001b[0m\n\u001b[0m\u001b[1;32m      3\u001b[0m \u001b[0mprint\u001b[0m\u001b[0;34m(\u001b[0m\u001b[0mT\u001b[0m\u001b[0;34m)\u001b[0m\u001b[0;34m\u001b[0m\u001b[0;34m\u001b[0m\u001b[0m\n",
      "\u001b[0;31mRuntimeError\u001b[0m: \n# Uni10 error occur at void uni10::Permute(UniTensor<UniType> &, const UniTensor<UniType> &, const std::vector<uni10_int> &, uni10_int, uni10::UNI10_INPLACE) [UniType = double]\n# error: The input new labels do not 1-1 correspond to the labels of the tensor.\n# file : /private/var/folders/26/5351ptkn06s590c1x8fv1jdm0000gn/T/pip-install-cuwd8i8n/pyuni10/include/uni10_api/uni10_hirnk_linalg_inplace/uni10_hirnk_linalg_inplace_permute.h (60)"
     ]
    }
   ],
   "source": [
    "# cannot rename label during permutation\n",
    "uni10.Permute(T, [0, 1, 2, 6], 2)\n",
    "print(T)"
   ]
  },
  {
   "cell_type": "code",
   "execution_count": 8,
   "metadata": {},
   "outputs": [
    {
     "name": "stdout",
     "output_type": "stream",
     "text": [
      "\n",
      "***************** T *****************\n",
      "REAL(0)\n",
      "\n",
      "             ____________\n",
      "            |            |\n",
      "        1___|2          2|___2    \n",
      "            |            |   \n",
      "        0___|2          2|___3    \n",
      "            |            |   \n",
      "            |____________|\n",
      "\n",
      "================BONDS===============\n",
      "IN : (U1 = 0, P = 0, 0)|2, Dim = 2\n",
      "IN : (U1 = 0, P = 0, 0)|2, Dim = 2\n",
      "OUT: (U1 = 0, P = 0, 0)|2, Dim = 2\n",
      "OUT: (U1 = 0, P = 0, 0)|2, Dim = 2\n",
      "\n",
      "===============BLOCKS===============\n",
      "--- (U1 = 0, P = 0, 0): \n",
      "4 x 4 = 16 [ Actual Usage: 0 ], REAL\n",
      "\n",
      "[ \n",
      "   0.       1.0000   2.0000   3.0000\n",
      "   8.0000   9.0000  10.0000  11.0000\n",
      "   4.0000   5.0000   6.0000   7.0000\n",
      "  12.0000  13.0000  14.0000  15.0000\n",
      "];\n",
      "Total elemNum: 16\n",
      "====================================\n",
      "\n",
      "\n",
      "\n"
     ]
    }
   ],
   "source": [
    "uni10.Permute(T, [1, 0, 2, 3], 2)\n",
    "print(T)"
   ]
  },
  {
   "cell_type": "code",
   "execution_count": 9,
   "metadata": {},
   "outputs": [
    {
     "name": "stdout",
     "output_type": "stream",
     "text": [
      "\n",
      "***************** T *****************\n",
      "REAL(0)\n",
      "\n",
      "             ____________\n",
      "            |            |\n",
      "        0___|2          2|___3    \n",
      "            |            |   \n",
      "        1___|2          2|___2    \n",
      "            |            |   \n",
      "            |____________|\n",
      "\n",
      "================BONDS===============\n",
      "IN : (U1 = 0, P = 0, 0)|2, Dim = 2\n",
      "IN : (U1 = 0, P = 0, 0)|2, Dim = 2\n",
      "OUT: (U1 = 0, P = 0, 0)|2, Dim = 2\n",
      "OUT: (U1 = 0, P = 0, 0)|2, Dim = 2\n",
      "\n",
      "===============BLOCKS===============\n",
      "--- (U1 = 0, P = 0, 0): \n",
      "4 x 4 = 16 [ Actual Usage: 0 ], REAL\n",
      "\n",
      "[ \n",
      "   0.       2.0000   1.0000   3.0000\n",
      "   4.0000   6.0000   5.0000   7.0000\n",
      "   8.0000  10.0000   9.0000  11.0000\n",
      "  12.0000  14.0000  13.0000  15.0000\n",
      "];\n",
      "Total elemNum: 16\n",
      "====================================\n",
      "\n",
      "\n",
      "\n"
     ]
    }
   ],
   "source": [
    "uni10.Permute(T, [0, 1, 3, 2], 2)\n",
    "print(T)"
   ]
  },
  {
   "cell_type": "code",
   "execution_count": null,
   "metadata": {},
   "outputs": [],
   "source": []
  }
 ],
 "metadata": {
  "kernelspec": {
   "display_name": "Python 3",
   "language": "python",
   "name": "python3"
  },
  "language_info": {
   "codemirror_mode": {
    "name": "ipython",
    "version": 3
   },
   "file_extension": ".py",
   "mimetype": "text/x-python",
   "name": "python",
   "nbconvert_exporter": "python",
   "pygments_lexer": "ipython3",
   "version": "3.6.8"
  }
 },
 "nbformat": 4,
 "nbformat_minor": 2
}
