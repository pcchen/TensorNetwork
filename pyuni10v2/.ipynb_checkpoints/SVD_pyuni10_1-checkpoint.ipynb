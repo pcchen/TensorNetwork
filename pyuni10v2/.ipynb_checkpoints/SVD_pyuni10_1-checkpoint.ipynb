{
 "cells": [
  {
   "cell_type": "markdown",
   "metadata": {},
   "source": [
    "# SVD in pyuni10"
   ]
  },
  {
   "cell_type": "code",
   "execution_count": 1,
   "metadata": {},
   "outputs": [],
   "source": [
    "import numpy as np\n",
    "import pyuni10 as uni10"
   ]
  },
  {
   "cell_type": "code",
   "execution_count": 2,
   "metadata": {},
   "outputs": [
    {
     "name": "stdout",
     "output_type": "stream",
     "text": [
      "IN : (U1 = 0, P = 0, 0)|2, Dim = 2\n",
      "\n",
      "OUT: (U1 = 0, P = 0, 0)|2, Dim = 2\n",
      "\n"
     ]
    }
   ],
   "source": [
    "ket = uni10.Bond(uni10.BD_IN, 2)\n",
    "bra = uni10.Bond(uni10.BD_OUT, 2)\n",
    "print(ket)\n",
    "print(bra)"
   ]
  },
  {
   "cell_type": "code",
   "execution_count": 3,
   "metadata": {},
   "outputs": [
    {
     "name": "stdout",
     "output_type": "stream",
     "text": [
      "\n",
      "************************************\n",
      "REAL(0)\n",
      "\n",
      "             ____________\n",
      "            |            |\n",
      "        0___|2          2|___1    \n",
      "            |            |   \n",
      "            |____________|\n",
      "\n",
      "================BONDS===============\n",
      "IN : (U1 = 0, P = 0, 0)|2, Dim = 2\n",
      "OUT: (U1 = 0, P = 0, 0)|2, Dim = 2\n",
      "\n",
      "===============BLOCKS===============\n",
      "--- (U1 = 0, P = 0, 0): 2 x 2: 0\n",
      "\n",
      "Total elemNum: 4\n",
      "====================================\n",
      "\n",
      "\n",
      "\n"
     ]
    }
   ],
   "source": [
    "# create a tensor without any element\n",
    "T = uni10.UniTensorR([ket, bra])\n",
    "print(T)"
   ]
  },
  {
   "cell_type": "code",
   "execution_count": 4,
   "metadata": {},
   "outputs": [
    {
     "name": "stdout",
     "output_type": "stream",
     "text": [
      "\n",
      "************************************\n",
      "REAL(0)\n",
      "\n",
      "             ____________\n",
      "            |            |\n",
      "        0___|2          2|___1    \n",
      "            |            |   \n",
      "            |____________|\n",
      "\n",
      "================BONDS===============\n",
      "IN : (U1 = 0, P = 0, 0)|2, Dim = 2\n",
      "OUT: (U1 = 0, P = 0, 0)|2, Dim = 2\n",
      "\n",
      "===============BLOCKS===============\n",
      "--- (U1 = 0, P = 0, 0): \n",
      "2 x 2 = 4 [ Actual Usage: 0 ], REAL\n",
      "\n",
      "[ \n",
      "   1.0000   2.0000\n",
      "   3.0000   4.0000\n",
      "];\n",
      "Total elemNum: 4\n",
      "====================================\n",
      "\n",
      "\n",
      "\n"
     ]
    }
   ],
   "source": [
    "# use SetRawElem to set the tensor elements\n",
    "M = np.array([1,2,3,4])\n",
    "T = uni10.UniTensorR([ket, bra])\n",
    "T.SetRawElem(M)\n",
    "print(T)"
   ]
  },
  {
   "cell_type": "code",
   "execution_count": 5,
   "metadata": {},
   "outputs": [
    {
     "name": "stdout",
     "output_type": "stream",
     "text": [
      "\n",
      "************************************\n",
      "REAL(0)\n",
      "\n",
      "             ____________\n",
      "            |            |\n",
      "        0___|2          2|___1    \n",
      "            |            |   \n",
      "            |____________|\n",
      "\n",
      "================BONDS===============\n",
      "IN : (U1 = 0, P = 0, 0)|2, Dim = 2\n",
      "OUT: (U1 = 0, P = 0, 0)|2, Dim = 2\n",
      "\n",
      "===============BLOCKS===============\n",
      "--- (U1 = 0, P = 0, 0): \n",
      "2 x 2 = 4 [ Actual Usage: 0 ], REAL\n",
      "\n",
      "[ \n",
      "   1.0000   2.0000\n",
      "   3.0000   4.0000\n",
      "];\n",
      "Total elemNum: 4\n",
      "====================================\n",
      "\n",
      "\n",
      "\n"
     ]
    }
   ],
   "source": [
    "# use SetRawElem to set the tensor elements\n",
    "M = np.array([[1,2],[3,4]])\n",
    "T = uni10.UniTensorR([ket, bra])\n",
    "T.SetRawElem(M)\n",
    "print(T)"
   ]
  },
  {
   "cell_type": "code",
   "execution_count": 6,
   "metadata": {},
   "outputs": [
    {
     "name": "stdout",
     "output_type": "stream",
     "text": [
      "\n",
      "************************************\n",
      "REAL(0)\n",
      "\n",
      "             ____________\n",
      "            |            |\n",
      "        0___|2          2|___1    \n",
      "            |            |   \n",
      "            |____________|\n",
      "\n",
      "================BONDS===============\n",
      "IN : (U1 = 0, P = 0, 0)|2, Dim = 2\n",
      "OUT: (U1 = 0, P = 0, 0)|2, Dim = 2\n",
      "\n",
      "===============BLOCKS===============\n",
      "--- (U1 = 0, P = 0, 0): \n",
      "2 x 2 = 4 [ Actual Usage: 0 ], REAL\n",
      "\n",
      "[ \n",
      "   1.0000   2.0000\n",
      "   3.0000   4.0000\n",
      "];\n",
      "Total elemNum: 4\n",
      "====================================\n",
      "\n",
      "\n",
      "\n"
     ]
    }
   ],
   "source": [
    "# set PutBlock to set the tensor elements\n",
    "M = np.array([[1,2],[3,4]])\n",
    "T = uni10.UniTensorR([ket, bra])\n",
    "T.PutBlock(M)\n",
    "print(T)"
   ]
  },
  {
   "cell_type": "code",
   "execution_count": 7,
   "metadata": {},
   "outputs": [
    {
     "name": "stdout",
     "output_type": "stream",
     "text": [
      "         0,0    0,0\n",
      "     ----------------\n",
      "    |\n",
      " 0,0|  1.000  2.000\n",
      "    |\n",
      " 0,0|  3.000  4.000\n",
      "    |\n"
     ]
    },
    {
     "data": {
      "text/plain": [
       "''"
      ]
     },
     "execution_count": 7,
     "metadata": {},
     "output_type": "execute_result"
    }
   ],
   "source": [
    "T.PrintRawElem()"
   ]
  },
  {
   "cell_type": "markdown",
   "metadata": {},
   "source": [
    "## Tensor->GetBlock->Matrix->SVD->PutBlock->Tensor"
   ]
  },
  {
   "cell_type": "code",
   "execution_count": 8,
   "metadata": {},
   "outputs": [
    {
     "name": "stdout",
     "output_type": "stream",
     "text": [
      "\n",
      "************************************\n",
      "REAL(0)\n",
      "\n",
      "             ____________\n",
      "            |            |\n",
      "        0___|2          2|___1    \n",
      "            |            |   \n",
      "            |____________|\n",
      "\n",
      "================BONDS===============\n",
      "IN : (U1 = 0, P = 0, 0)|2, Dim = 2\n",
      "OUT: (U1 = 0, P = 0, 0)|2, Dim = 2\n",
      "\n",
      "===============BLOCKS===============\n",
      "--- (U1 = 0, P = 0, 0): \n",
      "2 x 2 = 4 [ Actual Usage: 0 ], REAL\n",
      "\n",
      "[ \n",
      "   1.0000   2.0000\n",
      "   3.0000   4.0000\n",
      "];\n",
      "Total elemNum: 4\n",
      "====================================\n",
      "\n",
      "\n",
      "\n"
     ]
    }
   ],
   "source": [
    "# use SetRawElem to set the tensor elements\n",
    "M = np.array([1,2,3,4])\n",
    "T = uni10.UniTensorR([ket, bra])\n",
    "T.SetRawElem(M)\n",
    "print(T)"
   ]
  },
  {
   "cell_type": "code",
   "execution_count": 9,
   "metadata": {},
   "outputs": [
    {
     "name": "stdout",
     "output_type": "stream",
     "text": [
      "<class 'numpy.ndarray'>\n",
      "[[1. 2.]\n",
      " [3. 4.]]\n",
      "[S1] =\n",
      " [[-0.94573741 -0.5532367 ]\n",
      " [-2.13788832  0.24473526]]\n",
      "[S2] =\n",
      " [[-1.34664622 -1.9108976 ]\n",
      " [ 0.49449668 -0.34848131]]\n",
      "[S1][S2]=\n",
      " [[1. 2.]\n",
      " [3. 4.]]\n"
     ]
    }
   ],
   "source": [
    "# GetBlock + SVD\n",
    "M = T.GetBlock()\n",
    "print(type(M))\n",
    "print(M)\n",
    "\n",
    "U,S,Vd = np.linalg.svd(M)\n",
    "S1 = U @ np.diag(np.sqrt(S))\n",
    "S2 = np.diag(np.sqrt(S)) @ Vd\n",
    "print('[S1] =\\n', S1)\n",
    "print('[S2] =\\n', S2)\n",
    "print('[S1][S2]=\\n', S1 @ S2)"
   ]
  },
  {
   "cell_type": "code",
   "execution_count": 10,
   "metadata": {},
   "outputs": [
    {
     "name": "stdout",
     "output_type": "stream",
     "text": [
      "\n",
      "************************************\n",
      "REAL(0)\n",
      "\n",
      "             ____________\n",
      "            |            |\n",
      "        0___|2          2|___1    \n",
      "            |            |   \n",
      "            |____________|\n",
      "\n",
      "================BONDS===============\n",
      "IN : (U1 = 0, P = 0, 0)|2, Dim = 2\n",
      "OUT: (U1 = 0, P = 0, 0)|2, Dim = 2\n",
      "\n",
      "===============BLOCKS===============\n",
      "--- (U1 = 0, P = 0, 0): \n",
      "2 x 2 = 4 [ Actual Usage: 0 ], REAL\n",
      "\n",
      "[ \n",
      "  -0.9457  -0.5532\n",
      "  -2.1379   0.2447\n",
      "];\n",
      "Total elemNum: 4\n",
      "====================================\n",
      "\n",
      "\n",
      "\n",
      "\n",
      "************************************\n",
      "REAL(0)\n",
      "\n",
      "             ____________\n",
      "            |            |\n",
      "        0___|2          2|___1    \n",
      "            |            |   \n",
      "            |____________|\n",
      "\n",
      "================BONDS===============\n",
      "IN : (U1 = 0, P = 0, 0)|2, Dim = 2\n",
      "OUT: (U1 = 0, P = 0, 0)|2, Dim = 2\n",
      "\n",
      "===============BLOCKS===============\n",
      "--- (U1 = 0, P = 0, 0): \n",
      "2 x 2 = 4 [ Actual Usage: 0 ], REAL\n",
      "\n",
      "[ \n",
      "  -1.3466  -1.9109\n",
      "   0.4945  -0.3485\n",
      "];\n",
      "Total elemNum: 4\n",
      "====================================\n",
      "\n",
      "\n",
      "\n"
     ]
    }
   ],
   "source": [
    "# PutBlock\n",
    "T1 = uni10.UniTensorR([ket, bra])\n",
    "T2 = uni10.UniTensorR([ket, bra])\n",
    "T1.PutBlock(S1)\n",
    "T2.PutBlock(S2)\n",
    "print(T1)\n",
    "print(T2)"
   ]
  },
  {
   "cell_type": "markdown",
   "metadata": {},
   "source": [
    "## Pairwise tensor contraction"
   ]
  },
  {
   "cell_type": "code",
   "execution_count": 11,
   "metadata": {},
   "outputs": [
    {
     "name": "stdout",
     "output_type": "stream",
     "text": [
      "\n",
      "Scalar: 1.1882880517\n",
      "\n",
      "\n",
      "\n"
     ]
    }
   ],
   "source": [
    "# bonds with same label are summed\n",
    "R = uni10.Contract(T1, T2)\n",
    "print(R)"
   ]
  },
  {
   "cell_type": "code",
   "execution_count": 12,
   "metadata": {},
   "outputs": [
    {
     "name": "stdout",
     "output_type": "stream",
     "text": [
      "\n",
      "***************** T1 *****************\n",
      "REAL(0)\n",
      "\n",
      "             ____________\n",
      "            |            |\n",
      "        1___|2          2|___2    \n",
      "            |            |   \n",
      "            |____________|\n",
      "\n",
      "================BONDS===============\n",
      "IN : (U1 = 0, P = 0, 0)|2, Dim = 2\n",
      "OUT: (U1 = 0, P = 0, 0)|2, Dim = 2\n",
      "\n",
      "===============BLOCKS===============\n",
      "--- (U1 = 0, P = 0, 0): \n",
      "2 x 2 = 4 [ Actual Usage: 0 ], REAL\n",
      "\n",
      "[ \n",
      "  -0.9457  -0.5532\n",
      "  -2.1379   0.2447\n",
      "];\n",
      "Total elemNum: 4\n",
      "====================================\n",
      "\n",
      "\n",
      " \n",
      "***************** T2 *****************\n",
      "REAL(0)\n",
      "\n",
      "             ____________\n",
      "            |            |\n",
      "        2___|2          2|___3    \n",
      "            |            |   \n",
      "            |____________|\n",
      "\n",
      "================BONDS===============\n",
      "IN : (U1 = 0, P = 0, 0)|2, Dim = 2\n",
      "OUT: (U1 = 0, P = 0, 0)|2, Dim = 2\n",
      "\n",
      "===============BLOCKS===============\n",
      "--- (U1 = 0, P = 0, 0): \n",
      "2 x 2 = 4 [ Actual Usage: 0 ], REAL\n",
      "\n",
      "[ \n",
      "  -1.3466  -1.9109\n",
      "   0.4945  -0.3485\n",
      "];\n",
      "Total elemNum: 4\n",
      "====================================\n",
      "\n",
      "\n",
      "\n"
     ]
    }
   ],
   "source": [
    "T1.SetName('T1')\n",
    "T1.SetLabel([1, 2])\n",
    "\n",
    "T2.SetName('T2')\n",
    "T2.SetLabel([2, 3])\n",
    "\n",
    "print(T1, T2)"
   ]
  },
  {
   "cell_type": "code",
   "execution_count": 13,
   "metadata": {},
   "outputs": [
    {
     "name": "stdout",
     "output_type": "stream",
     "text": [
      "\n",
      "************************************\n",
      "REAL(0)\n",
      "\n",
      "             ____________\n",
      "            |            |\n",
      "        1___|2          2|___3    \n",
      "            |            |   \n",
      "            |____________|\n",
      "\n",
      "================BONDS===============\n",
      "IN : (U1 = 0, P = 0, 0)|2, Dim = 2\n",
      "OUT: (U1 = 0, P = 0, 0)|2, Dim = 2\n",
      "\n",
      "===============BLOCKS===============\n",
      "--- (U1 = 0, P = 0, 0): \n",
      "2 x 2 = 4 [ Actual Usage: 0 ], REAL\n",
      "\n",
      "[ \n",
      "   1.0000   2.0000\n",
      "   3.0000   4.0000\n",
      "];\n",
      "Total elemNum: 4\n",
      "====================================\n",
      "\n",
      "\n",
      "\n"
     ]
    }
   ],
   "source": [
    "# bonds with same label are summed\n",
    "R = uni10.Contract(T1, T2)\n",
    "print(R)"
   ]
  }
 ],
 "metadata": {
  "kernelspec": {
   "display_name": "Python 3",
   "language": "python",
   "name": "python3"
  },
  "language_info": {
   "codemirror_mode": {
    "name": "ipython",
    "version": 3
   },
   "file_extension": ".py",
   "mimetype": "text/x-python",
   "name": "python",
   "nbconvert_exporter": "python",
   "pygments_lexer": "ipython3",
   "version": "3.6.8"
  }
 },
 "nbformat": 4,
 "nbformat_minor": 2
}
