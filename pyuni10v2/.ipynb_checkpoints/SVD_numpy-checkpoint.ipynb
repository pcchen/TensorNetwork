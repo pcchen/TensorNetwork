{
 "cells": [
  {
   "cell_type": "markdown",
   "metadata": {},
   "source": [
    "# SVD = Singular Value Decomposition"
   ]
  },
  {
   "cell_type": "markdown",
   "metadata": {},
   "source": [
    "$$\n",
    "  M = U \\Sigma V^\\dagger.\n",
    "$$"
   ]
  },
  {
   "cell_type": "code",
   "execution_count": 1,
   "metadata": {},
   "outputs": [],
   "source": [
    "import numpy as np"
   ]
  },
  {
   "cell_type": "markdown",
   "metadata": {},
   "source": [
    "## SVD of a 2X2 matrix"
   ]
  },
  {
   "cell_type": "code",
   "execution_count": 2,
   "metadata": {},
   "outputs": [
    {
     "name": "stdout",
     "output_type": "stream",
     "text": [
      "M=\n",
      " [[1 2]\n",
      " [3 4]]\n",
      "U=\n",
      " [[-0.40455358 -0.9145143 ]\n",
      " [-0.9145143   0.40455358]]\n",
      "S=\n",
      " [5.4649857  0.36596619]\n",
      "Vd=\n",
      " [[-0.57604844 -0.81741556]\n",
      " [ 0.81741556 -0.57604844]]\n"
     ]
    }
   ],
   "source": [
    "# SVD of a 2X2 matrix\n",
    "M = np.array([[1, 2],\n",
    "              [3, 4]])\n",
    "print('M=\\n', M)\n",
    "\n",
    "U,S,Vd = np.linalg.svd(M)\n",
    "print('U=\\n', U)\n",
    "print('S=\\n', S)\n",
    "print('Vd=\\n', Vd)"
   ]
  },
  {
   "cell_type": "code",
   "execution_count": 3,
   "metadata": {},
   "outputs": [
    {
     "name": "stdout",
     "output_type": "stream",
     "text": [
      "U S Vd=\n",
      " [-2.49789853  4.87447463]\n",
      "[S]=\n",
      " [[5.4649857  0.        ]\n",
      " [0.         0.36596619]]\n",
      "U [S] Vd=\n",
      " [[1. 2.]\n",
      " [3. 4.]]\n"
     ]
    }
   ],
   "source": [
    "# check\n",
    "\n",
    "# this gives the wrong answer because S is a vector\n",
    "print('U S Vd=\\n', U @ S @ Vd)\n",
    "print('[S]=\\n', np.diag(S))\n",
    "\n",
    "# convert S to a diagonal matrix and check again\n",
    "print('U [S] Vd=\\n', U @ np.diag(S) @ Vd)"
   ]
  },
  {
   "cell_type": "code",
   "execution_count": 4,
   "metadata": {},
   "outputs": [
    {
     "data": {
      "text/plain": [
       "array([[5.4649857 , 0.        ],\n",
       "       [0.        , 0.36596619]])"
      ]
     },
     "execution_count": 4,
     "metadata": {},
     "output_type": "execute_result"
    }
   ],
   "source": [
    "np.diag(S)"
   ]
  },
  {
   "cell_type": "code",
   "execution_count": 5,
   "metadata": {},
   "outputs": [
    {
     "name": "stdout",
     "output_type": "stream",
     "text": [
      "Ud U=\n",
      " [[1.00000000e+00 9.98502693e-17]\n",
      " [9.98502693e-17 1.00000000e+00]]\n",
      "U Ud=\n",
      " [[1.00000000e+00 3.00701513e-16]\n",
      " [3.00701513e-16 1.00000000e+00]]\n",
      "Vd V=\n",
      " [[1.000000e+00 1.145223e-18]\n",
      " [1.145223e-18 1.000000e+00]]\n",
      "V Vd=\n",
      " [[ 1.000000e+00 -1.145223e-18]\n",
      " [-1.145223e-18  1.000000e+00]]\n"
     ]
    }
   ],
   "source": [
    "Ud = np.transpose(U)\n",
    "print('Ud U=\\n', Ud @ U)\n",
    "print('U Ud=\\n', U @ Ud)\n",
    "\n",
    "V = np.transpose(Vd)\n",
    "print('Vd V=\\n', Vd @ V)\n",
    "print('V Vd=\\n', V @ Vd)"
   ]
  },
  {
   "cell_type": "markdown",
   "metadata": {},
   "source": [
    "## SVD of a 4X2 matrix"
   ]
  },
  {
   "cell_type": "code",
   "execution_count": 6,
   "metadata": {},
   "outputs": [
    {
     "name": "stdout",
     "output_type": "stream",
     "text": [
      "M=\n",
      " [0 1 2 3 4 5 6 7]\n",
      "M=\n",
      " [[0 1]\n",
      " [2 3]\n",
      " [4 5]\n",
      " [6 7]]\n",
      "U=\n",
      " [[-0.0656451  -0.83408076 -0.38578674 -0.38880405]\n",
      " [-0.30394881 -0.45564802  0.22458489  0.80595386]\n",
      " [-0.54225252 -0.07721528  0.70819044 -0.44549557]\n",
      " [-0.78055624  0.30121746 -0.54698859  0.02834576]]\n",
      "S=\n",
      " [11.80788803  0.75748278]\n",
      "Vd=\n",
      " [[-0.63180182 -0.77512996]\n",
      " [ 0.77512996 -0.63180182]]\n"
     ]
    }
   ],
   "source": [
    "# SVD of a 4X2 matrix\n",
    "M = np.array(range(8))\n",
    "print('M=\\n', M)\n",
    "M = np.reshape(M, (4, 2))\n",
    "print('M=\\n',M)\n",
    "\n",
    "U,S,Vd = np.linalg.svd(M)\n",
    "print('U=\\n', U)\n",
    "print('S=\\n', S)\n",
    "print('Vd=\\n', Vd)"
   ]
  },
  {
   "cell_type": "code",
   "execution_count": 7,
   "metadata": {},
   "outputs": [
    {
     "ename": "ValueError",
     "evalue": "shapes (4,4) and (2,2) not aligned: 4 (dim 1) != 2 (dim 0)",
     "output_type": "error",
     "traceback": [
      "\u001b[0;31m---------------------------------------------------------------------------\u001b[0m",
      "\u001b[0;31mValueError\u001b[0m                                Traceback (most recent call last)",
      "\u001b[0;32m<ipython-input-7-68487e540bf0>\u001b[0m in \u001b[0;36m<module>\u001b[0;34m()\u001b[0m\n\u001b[1;32m      2\u001b[0m \u001b[0;34m\u001b[0m\u001b[0m\n\u001b[1;32m      3\u001b[0m \u001b[0;31m# this fails because full matrices is set to be True\u001b[0m\u001b[0;34m\u001b[0m\u001b[0;34m\u001b[0m\u001b[0;34m\u001b[0m\u001b[0m\n\u001b[0;32m----> 4\u001b[0;31m \u001b[0mprint\u001b[0m\u001b[0;34m(\u001b[0m\u001b[0;34m'U [S] Vd=\\n'\u001b[0m\u001b[0;34m,\u001b[0m \u001b[0mU\u001b[0m \u001b[0;34m@\u001b[0m \u001b[0mnp\u001b[0m\u001b[0;34m.\u001b[0m\u001b[0mdiag\u001b[0m\u001b[0;34m(\u001b[0m\u001b[0mS\u001b[0m\u001b[0;34m)\u001b[0m \u001b[0;34m@\u001b[0m \u001b[0mVd\u001b[0m\u001b[0;34m)\u001b[0m\u001b[0;34m\u001b[0m\u001b[0;34m\u001b[0m\u001b[0m\n\u001b[0m",
      "\u001b[0;31mValueError\u001b[0m: shapes (4,4) and (2,2) not aligned: 4 (dim 1) != 2 (dim 0)"
     ]
    }
   ],
   "source": [
    "# check\n",
    "\n",
    "# this fails because full matrices is set to be True\n",
    "print('U [S] Vd=\\n', U @ np.diag(S) @ Vd)"
   ]
  },
  {
   "cell_type": "code",
   "execution_count": 8,
   "metadata": {},
   "outputs": [
    {
     "name": "stdout",
     "output_type": "stream",
     "text": [
      "U=\n",
      " [[-0.0656451  -0.83408076]\n",
      " [-0.30394881 -0.45564802]\n",
      " [-0.54225252 -0.07721528]\n",
      " [-0.78055624  0.30121746]]\n",
      "S=\n",
      " [11.80788803  0.75748278]\n",
      "Vd=\n",
      " [[-0.63180182 -0.77512996]\n",
      " [ 0.77512996 -0.63180182]]\n",
      "U [S] Vd=\n",
      " [[-2.23890725e-18  1.00000000e+00]\n",
      " [ 2.00000000e+00  3.00000000e+00]\n",
      " [ 4.00000000e+00  5.00000000e+00]\n",
      " [ 6.00000000e+00  7.00000000e+00]]\n"
     ]
    }
   ],
   "source": [
    "U,S,Vd = np.linalg.svd(M, full_matrices=False)\n",
    "print('U=\\n', U)\n",
    "print('S=\\n', S)\n",
    "print('Vd=\\n', Vd)\n",
    "\n",
    "# check\n",
    "print('U [S] Vd=\\n', U @ np.diag(S) @ Vd)"
   ]
  },
  {
   "cell_type": "markdown",
   "metadata": {},
   "source": [
    "## SVD of a 2X4 matrix"
   ]
  },
  {
   "cell_type": "code",
   "execution_count": 9,
   "metadata": {},
   "outputs": [
    {
     "name": "stdout",
     "output_type": "stream",
     "text": [
      "M=\n",
      " [0 1 2 3 4 5 6 7]\n",
      "M=\n",
      " [[0 1 2 3]\n",
      " [4 5 6 7]]\n",
      "U=\n",
      " [[-0.29370412 -0.95589638]\n",
      " [-0.95589638  0.29370412]]\n",
      "S=\n",
      " [11.73352876  1.52456641]\n",
      "Vd=\n",
      " [[-0.32586834 -0.43236661 -0.53886488 -0.64536315]\n",
      " [ 0.77059057  0.33624265 -0.09810528 -0.5324532 ]\n",
      " [-0.38578674  0.22458489  0.70819044 -0.54698859]\n",
      " [-0.38880405  0.80595386 -0.44549557  0.02834576]]\n"
     ]
    }
   ],
   "source": [
    "# SVD of a 4X2 matrix\n",
    "M = np.array(range(8))\n",
    "print('M=\\n', M)\n",
    "M = np.reshape(M, (2, 4))\n",
    "print('M=\\n',M)\n",
    "\n",
    "U,S,Vd = np.linalg.svd(M)\n",
    "print('U=\\n', U)\n",
    "print('S=\\n', S)\n",
    "print('Vd=\\n', Vd)"
   ]
  },
  {
   "cell_type": "code",
   "execution_count": 10,
   "metadata": {},
   "outputs": [
    {
     "ename": "ValueError",
     "evalue": "shapes (2,2) and (4,4) not aligned: 2 (dim 1) != 4 (dim 0)",
     "output_type": "error",
     "traceback": [
      "\u001b[0;31m---------------------------------------------------------------------------\u001b[0m",
      "\u001b[0;31mValueError\u001b[0m                                Traceback (most recent call last)",
      "\u001b[0;32m<ipython-input-10-68487e540bf0>\u001b[0m in \u001b[0;36m<module>\u001b[0;34m()\u001b[0m\n\u001b[1;32m      2\u001b[0m \u001b[0;34m\u001b[0m\u001b[0m\n\u001b[1;32m      3\u001b[0m \u001b[0;31m# this fails because full matrices is set to be True\u001b[0m\u001b[0;34m\u001b[0m\u001b[0;34m\u001b[0m\u001b[0;34m\u001b[0m\u001b[0m\n\u001b[0;32m----> 4\u001b[0;31m \u001b[0mprint\u001b[0m\u001b[0;34m(\u001b[0m\u001b[0;34m'U [S] Vd=\\n'\u001b[0m\u001b[0;34m,\u001b[0m \u001b[0mU\u001b[0m \u001b[0;34m@\u001b[0m \u001b[0mnp\u001b[0m\u001b[0;34m.\u001b[0m\u001b[0mdiag\u001b[0m\u001b[0;34m(\u001b[0m\u001b[0mS\u001b[0m\u001b[0;34m)\u001b[0m \u001b[0;34m@\u001b[0m \u001b[0mVd\u001b[0m\u001b[0;34m)\u001b[0m\u001b[0;34m\u001b[0m\u001b[0;34m\u001b[0m\u001b[0m\n\u001b[0m",
      "\u001b[0;31mValueError\u001b[0m: shapes (2,2) and (4,4) not aligned: 2 (dim 1) != 4 (dim 0)"
     ]
    }
   ],
   "source": [
    "# check\n",
    "\n",
    "# this fails because full matrices is set to be True\n",
    "print('U [S] Vd=\\n', U @ np.diag(S) @ Vd)"
   ]
  },
  {
   "cell_type": "code",
   "execution_count": 11,
   "metadata": {},
   "outputs": [
    {
     "name": "stdout",
     "output_type": "stream",
     "text": [
      "U=\n",
      " [[-0.29370412 -0.95589638]\n",
      " [-0.95589638  0.29370412]]\n",
      "S=\n",
      " [11.73352876  1.52456641]\n",
      "Vd=\n",
      " [[-0.32586834 -0.43236661 -0.53886488 -0.64536315]\n",
      " [ 0.77059057  0.33624265 -0.09810528 -0.5324532 ]]\n",
      "U [S] Vd=\n",
      " [[-1.87949788e-15  1.00000000e+00  2.00000000e+00  3.00000000e+00]\n",
      " [ 4.00000000e+00  5.00000000e+00  6.00000000e+00  7.00000000e+00]]\n"
     ]
    }
   ],
   "source": [
    "U,S,Vd = np.linalg.svd(M, full_matrices=False)\n",
    "print('U=\\n', U)\n",
    "print('S=\\n', S)\n",
    "print('Vd=\\n', Vd)\n",
    "\n",
    "# check\n",
    "print('U [S] Vd=\\n', U @ np.diag(S) @ Vd)"
   ]
  },
  {
   "cell_type": "code",
   "execution_count": 12,
   "metadata": {},
   "outputs": [],
   "source": [
    "## SVD truncation and approximation"
   ]
  },
  {
   "cell_type": "code",
   "execution_count": 13,
   "metadata": {},
   "outputs": [
    {
     "name": "stdout",
     "output_type": "stream",
     "text": [
      "M=\n",
      " [[0.66268343 0.22596695 0.16618302 0.00585498 0.06941572 0.09741379]\n",
      " [0.35464831 0.09194054 0.20264719 0.26038838 0.12831224 0.33326903]\n",
      " [0.57091312 0.44453407 0.32430652 0.73867398 0.06032826 0.56859923]\n",
      " [0.07019451 0.18462956 0.8179159  0.69584693 0.18585568 0.38008879]\n",
      " [0.41617334 0.9044078  0.11109555 0.61755396 0.6926576  0.0632064 ]\n",
      " [0.36204126 0.96271213 0.59966001 0.96329888 0.95408193 0.05178084]]\n",
      "S=\n",
      " [2.67511122 0.97401451 0.78723203 0.38954142 0.15145752 0.05477693]\n",
      "D_cut = 1\n",
      "S_cut=\n",
      " [2.67511122 0.         0.         0.         0.         0.        ]\n",
      "Max Diff = 0.37179891742742316\n",
      "\n",
      "D_cut = 2\n",
      "S_cut=\n",
      " [2.67511122 0.97401451 0.         0.         0.         0.        ]\n",
      "Max Diff = 0.32976964806484155\n",
      "\n",
      "D_cut = 3\n",
      "S_cut=\n",
      " [2.67511122 0.97401451 0.78723203 0.         0.         0.        ]\n",
      "Max Diff = 0.1397694834712166\n",
      "\n",
      "D_cut = 4\n",
      "S_cut=\n",
      " [2.67511122 0.97401451 0.78723203 0.38954142 0.         0.        ]\n",
      "Max Diff = 0.06613694211989854\n",
      "\n",
      "D_cut = 5\n",
      "S_cut=\n",
      " [2.67511122 0.97401451 0.78723203 0.38954142 0.15145752 0.        ]\n",
      "Max Diff = 0.021182025245460312\n",
      "\n",
      "D_cut = 6\n",
      "S_cut=\n",
      " [2.67511122 0.97401451 0.78723203 0.38954142 0.15145752 0.05477693]\n",
      "Max Diff = 1.1102230246251565e-15\n",
      "\n"
     ]
    }
   ],
   "source": [
    "D = 6\n",
    "M = np.random.rand(D,D)\n",
    "print('M=\\n', M)\n",
    "\n",
    "U,S,Vd = np.linalg.svd(M)\n",
    "print('S=\\n', S)\n",
    "\n",
    "for D_cut in range(1,D+1):\n",
    "    print('D_cut =', D_cut)\n",
    "    S_cut = np.zeros_like(S)\n",
    "    S_cut[:D_cut] = S[:D_cut]\n",
    "    print('S_cut=\\n', S_cut)    \n",
    "    Diff = U @ np.diag(S_cut) @ Vd - M\n",
    "    print('Max Diff =', np.max(Diff))\n",
    "    print()\n"
   ]
  },
  {
   "cell_type": "code",
   "execution_count": 14,
   "metadata": {},
   "outputs": [
    {
     "name": "stdout",
     "output_type": "stream",
     "text": [
      "M=\n",
      " [[ 0  1  2  3]\n",
      " [ 4  5  6  7]\n",
      " [ 8  9 10 11]\n",
      " [12 13 14 15]]\n",
      "S=\n",
      " [3.51399637e+01 2.27661021e+00 1.79164689e-15 9.84875082e-17]\n",
      "D_cut = 1\n",
      "S_cut=\n",
      " [35.13996366  0.          0.          0.        ]\n",
      "Max Diff = 1.3662601021279475\n",
      "\n",
      "D_cut = 2\n",
      "S_cut=\n",
      " [35.13996366  2.27661021  0.          0.        ]\n",
      "Max Diff = 5.329070518200751e-15\n",
      "\n",
      "D_cut = 3\n",
      "S_cut=\n",
      " [3.51399637e+01 2.27661021e+00 1.79164689e-15 0.00000000e+00]\n",
      "Max Diff = 5.329070518200751e-15\n",
      "\n",
      "D_cut = 4\n",
      "S_cut=\n",
      " [3.51399637e+01 2.27661021e+00 1.79164689e-15 9.84875082e-17]\n",
      "Max Diff = 5.329070518200751e-15\n",
      "\n"
     ]
    }
   ],
   "source": [
    "D = 4\n",
    "M = np.array(range(D*D))\n",
    "M = np.reshape(M, (D, D))\n",
    "print('M=\\n', M)\n",
    "\n",
    "U,S,Vd = np.linalg.svd(M)\n",
    "print('S=\\n', S)\n",
    "\n",
    "for D_cut in range(1,D+1):\n",
    "    print('D_cut =', D_cut)\n",
    "    S_cut = np.zeros_like(S)\n",
    "    S_cut[:D_cut] = S[:D_cut]\n",
    "    print('S_cut=\\n', S_cut)    \n",
    "    Diff = U @ np.diag(S_cut) @ Vd - M\n",
    "    print('Max Diff =', np.max(Diff))\n",
    "    print()\n",
    "\n"
   ]
  },
  {
   "cell_type": "code",
   "execution_count": null,
   "metadata": {},
   "outputs": [],
   "source": []
  },
  {
   "cell_type": "code",
   "execution_count": null,
   "metadata": {},
   "outputs": [],
   "source": []
  }
 ],
 "metadata": {
  "kernelspec": {
   "display_name": "Python 3",
   "language": "python",
   "name": "python3"
  },
  "language_info": {
   "codemirror_mode": {
    "name": "ipython",
    "version": 3
   },
   "file_extension": ".py",
   "mimetype": "text/x-python",
   "name": "python",
   "nbconvert_exporter": "python",
   "pygments_lexer": "ipython3",
   "version": "3.6.8"
  }
 },
 "nbformat": 4,
 "nbformat_minor": 2
}
