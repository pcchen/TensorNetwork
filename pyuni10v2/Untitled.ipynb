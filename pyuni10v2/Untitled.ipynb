{
 "cells": [
  {
   "cell_type": "code",
   "execution_count": 1,
   "metadata": {},
   "outputs": [],
   "source": [
    "import pyuni10 as uni10"
   ]
  },
  {
   "cell_type": "code",
   "execution_count": 2,
   "metadata": {},
   "outputs": [
    {
     "name": "stdout",
     "output_type": "stream",
     "text": [
      "Help on built-in function Permute in module pyuni10.pyuni10:\n",
      "\n",
      "Permute(...) method of builtins.PyCapsule instance\n",
      "    Permute(*args, **kwargs)\n",
      "    Overloaded function.\n",
      "    \n",
      "    1. Permute(T: pyuni10.pyuni10.UniTensorR, newLabels: List[int], inBondNum: int) -> None\n",
      "    \n",
      "    2. Permute(T: pyuni10.pyuni10.UniTensorC, newLabels: List[int], inBondNum: int) -> None\n",
      "    \n",
      "    3. Permute(T: pyuni10.pyuni10.UniTensorR, inBondNum: int) -> None\n",
      "    \n",
      "    4. Permute(T: pyuni10.pyuni10.UniTensorC, inBondNum: int) -> None\n",
      "\n"
     ]
    }
   ],
   "source": [
    "help(uni10.Permute)"
   ]
  },
  {
   "cell_type": "code",
   "execution_count": 3,
   "metadata": {},
   "outputs": [
    {
     "ename": "AttributeError",
     "evalue": "module 'pyuni10' has no attribute '__version__'",
     "output_type": "error",
     "traceback": [
      "\u001b[0;31m---------------------------------------------------------------------------\u001b[0m",
      "\u001b[0;31mAttributeError\u001b[0m                            Traceback (most recent call last)",
      "\u001b[0;32m<ipython-input-3-cae3b332d2bf>\u001b[0m in \u001b[0;36m<module>\u001b[0;34m\u001b[0m\n\u001b[0;32m----> 1\u001b[0;31m \u001b[0mprint\u001b[0m\u001b[0;34m(\u001b[0m\u001b[0muni10\u001b[0m\u001b[0;34m.\u001b[0m\u001b[0m__version__\u001b[0m\u001b[0;34m)\u001b[0m\u001b[0;34m\u001b[0m\u001b[0;34m\u001b[0m\u001b[0m\n\u001b[0m",
      "\u001b[0;31mAttributeError\u001b[0m: module 'pyuni10' has no attribute '__version__'"
     ]
    }
   ],
   "source": [
    "print(uni10.__version__)"
   ]
  },
  {
   "cell_type": "code",
   "execution_count": 4,
   "metadata": {},
   "outputs": [
    {
     "data": {
      "text/plain": [
       "['BD_IN',\n",
       " 'BD_OUT',\n",
       " 'Bond',\n",
       " 'Conj',\n",
       " 'Contract',\n",
       " 'Dagger',\n",
       " 'Hosvd',\n",
       " 'Network',\n",
       " 'Otimes',\n",
       " 'PRTF_EVEN',\n",
       " 'PRTF_ODD',\n",
       " 'PRT_EVEN',\n",
       " 'PRT_ODD',\n",
       " 'PartialTrace',\n",
       " 'Permute',\n",
       " 'PseudoContract',\n",
       " 'PseudoPermute',\n",
       " 'Qnum',\n",
       " 'Trace',\n",
       " 'Transpose',\n",
       " 'UniTensorC',\n",
       " 'UniTensorR',\n",
       " '__builtins__',\n",
       " '__cached__',\n",
       " '__doc__',\n",
       " '__file__',\n",
       " '__loader__',\n",
       " '__name__',\n",
       " '__package__',\n",
       " '__path__',\n",
       " '__spec__',\n",
       " 'bondType',\n",
       " 'bs_sym',\n",
       " 'combine',\n",
       " 'contain_type',\n",
       " 'fm_sym',\n",
       " 'no_sym',\n",
       " 'parityFType',\n",
       " 'parityType',\n",
       " 'pyuni10',\n",
       " 'spar_sym']"
      ]
     },
     "execution_count": 4,
     "metadata": {},
     "output_type": "execute_result"
    }
   ],
   "source": [
    "dir(uni10)"
   ]
  },
  {
   "cell_type": "code",
   "execution_count": null,
   "metadata": {},
   "outputs": [],
   "source": []
  }
 ],
 "metadata": {
  "kernelspec": {
   "display_name": "Python 3",
   "language": "python",
   "name": "python3"
  },
  "language_info": {
   "codemirror_mode": {
    "name": "ipython",
    "version": 3
   },
   "file_extension": ".py",
   "mimetype": "text/x-python",
   "name": "python",
   "nbconvert_exporter": "python",
   "pygments_lexer": "ipython3",
   "version": "3.7.5"
  }
 },
 "nbformat": 4,
 "nbformat_minor": 4
}
