{
 "cells": [
  {
   "cell_type": "markdown",
   "metadata": {},
   "source": [
    "# Tensor Network"
   ]
  },
  {
   "cell_type": "code",
   "execution_count": 1,
   "metadata": {},
   "outputs": [],
   "source": [
    "import Tor10\n",
    "import numpy as np \n",
    "import torch \n",
    "import copy"
   ]
  },
  {
   "cell_type": "markdown",
   "metadata": {},
   "source": [
    "## Bond\n",
    "Bond = local vector space.\n",
    "\n",
    "In the following, we create a $d=2$ bond to represent $\\{|+\\rangle, |-\\rangle\\}$ or $\\{\\langle +|, \\langle -|\\}$."
   ]
  },
  {
   "cell_type": "code",
   "execution_count": 2,
   "metadata": {},
   "outputs": [
    {
     "name": "stdout",
     "output_type": "stream",
     "text": [
      "Dim = 2 |\n",
      "REGULAR :\n",
      "\n"
     ]
    }
   ],
   "source": [
    "bd = Tor10.Bond(2)\n",
    "print(bd)"
   ]
  },
  {
   "cell_type": "markdown",
   "metadata": {},
   "source": [
    "## Rank-1 tensor\n",
    "* Ket: inbond.\n",
    "* Bra: outbond.\n",
    "\n",
    "In the basis of $\\{|+\\rangle, |-\\rangle\\}$, we create\n",
    "$$\n",
    "  |+\\rangle \\rightarrow \n",
    "  \\left[\n",
    "    \\begin{array}{c}\n",
    "    1 \\\\\n",
    "    0\n",
    "    \\end{array}\n",
    "  \\right], \\;\n",
    "  |-\\rangle \\rightarrow \n",
    "  \\left[\n",
    "    \\begin{array}{c}\n",
    "    0 \\\\\n",
    "    1\n",
    "    \\end{array}\n",
    "  \\right].\n",
    "$$\n",
    "\n",
    "In the basis of $\\{\\langle+|, \\langle-|\\}$, we create\n",
    "$$\n",
    "  \\langle+| \\rightarrow \n",
    "  \\left[\n",
    "    \\begin{array}{cc}\n",
    "    1 & 0\n",
    "    \\end{array}\n",
    "  \\right], \\;\n",
    "  \\langle-| \\rightarrow \n",
    "  \\left[\n",
    "    \\begin{array}{cc}\n",
    "    0 & 1\n",
    "    \\end{array}\n",
    "  \\right].\n",
    "$$"
   ]
  },
  {
   "cell_type": "markdown",
   "metadata": {},
   "source": [
    "### $|+\\rangle$"
   ]
  },
  {
   "cell_type": "code",
   "execution_count": 3,
   "metadata": {},
   "outputs": [
    {
     "name": "stdout",
     "output_type": "stream",
     "text": [
      "Tensor name: |+>\n",
      "is_diag    : False\n",
      "tensor([1., 0.], dtype=torch.float64)\n",
      "\n",
      "tensor Name : |+>\n",
      "tensor Rank : 1\n",
      "on device   : cpu\n",
      "is_diag     : False\n",
      "        ---------------     \n",
      "        |             |     \n",
      "    0 __| 2           |      \n",
      "        |             |     \n",
      "        ---------------     \n",
      "lbl:0 Dim = 2 |\n",
      "REGULAR :\n",
      "\n"
     ]
    }
   ],
   "source": [
    "# |+>\n",
    "up_ket = Tor10.UniTensor(bonds=[bd], N_inbond=1, name=\"|+>\")\n",
    "up_ket.SetElem([[1],[0]])\n",
    "print(up_ket) # issue: should display as column.\n",
    "up_ket.Print_diagram()"
   ]
  },
  {
   "cell_type": "markdown",
   "metadata": {},
   "source": [
    "### $|-\\rangle$"
   ]
  },
  {
   "cell_type": "code",
   "execution_count": 4,
   "metadata": {},
   "outputs": [
    {
     "name": "stdout",
     "output_type": "stream",
     "text": [
      "Tensor name: |->\n",
      "is_diag    : False\n",
      "tensor([0., 1.], dtype=torch.float64)\n",
      "\n",
      "tensor Name : |->\n",
      "tensor Rank : 1\n",
      "on device   : cpu\n",
      "is_diag     : False\n",
      "        ---------------     \n",
      "        |             |     \n",
      "    0 __| 2           |      \n",
      "        |             |     \n",
      "        ---------------     \n",
      "lbl:0 Dim = 2 |\n",
      "REGULAR :\n",
      "\n"
     ]
    }
   ],
   "source": [
    "dn_ket = Tor10.UniTensor(bonds=[bd], N_inbond=1, name=\"|->\")\n",
    "dn_ket.SetElem([[0],[1]])\n",
    "print(dn_ket) # issue: should display as column.\n",
    "dn_ket.Print_diagram()"
   ]
  },
  {
   "cell_type": "markdown",
   "metadata": {},
   "source": [
    "### $\\langle +|$"
   ]
  },
  {
   "cell_type": "code",
   "execution_count": 5,
   "metadata": {},
   "outputs": [
    {
     "name": "stdout",
     "output_type": "stream",
     "text": [
      "Tensor name: \n",
      "is_diag    : False\n",
      "tensor([1., 0.], dtype=torch.float64)\n",
      "\n",
      "tensor Name : \n",
      "tensor Rank : 1\n",
      "on device   : cpu\n",
      "is_diag     : False\n",
      "        ---------------     \n",
      "        |             |     \n",
      "        |           2 |__ 0  \n",
      "        |             |     \n",
      "        ---------------     \n",
      "lbl:0 Dim = 2 |\n",
      "REGULAR :\n",
      "\n"
     ]
    }
   ],
   "source": [
    "# <+|\n",
    "up_bra = up_ket.Reshape([2], N_inbond=0)\n",
    "# up_bra.SetName('<+|') # issue: cannot SetName after a tensor is created.\n",
    "print(up_bra)\n",
    "up_bra.Print_diagram()"
   ]
  },
  {
   "cell_type": "code",
   "execution_count": 7,
   "metadata": {},
   "outputs": [
    {
     "name": "stdout",
     "output_type": "stream",
     "text": [
      "Tensor name: \n",
      "is_diag    : False\n",
      "tensor([0., 1.], dtype=torch.float64)\n",
      "\n",
      "tensor Name : \n",
      "tensor Rank : 1\n",
      "on device   : cpu\n",
      "is_diag     : False\n",
      "        ---------------     \n",
      "        |             |     \n",
      "        |           2 |__ 0  \n",
      "        |             |     \n",
      "        ---------------     \n",
      "lbl:0 Dim = 2 |\n",
      "REGULAR :\n",
      "\n"
     ]
    }
   ],
   "source": [
    "# <-|\n",
    "dn_bra = dn_ket.Reshape([2], N_inbond=0)\n",
    "print(dn_bra)\n",
    "dn_bra.Print_diagram()"
   ]
  },
  {
   "cell_type": "markdown",
   "metadata": {},
   "source": [
    "### Orthogonality $\\langle i|j\\rangle=\\delta_{ij}$"
   ]
  },
  {
   "cell_type": "code",
   "execution_count": 9,
   "metadata": {},
   "outputs": [
    {
     "name": "stdout",
     "output_type": "stream",
     "text": [
      "Tensor name: \n",
      "is_diag    : False\n",
      "tensor(1., dtype=torch.float64)\n",
      "\n",
      "Tensor name: \n",
      "is_diag    : False\n",
      "tensor(0., dtype=torch.float64)\n",
      "\n",
      "Tensor name: \n",
      "is_diag    : False\n",
      "tensor(0., dtype=torch.float64)\n",
      "\n",
      "Tensor name: \n",
      "is_diag    : False\n",
      "tensor(1., dtype=torch.float64)\n",
      "\n"
     ]
    }
   ],
   "source": [
    "for bra in [up_bra, dn_bra]:\n",
    "    for ket in [up_ket, dn_ket]:\n",
    "        braket = Tor10.Contract(bra, ket)\n",
    "#         print(braket.GetBlock()) # issue: bug?\n",
    "        print(braket)"
   ]
  },
  {
   "cell_type": "markdown",
   "metadata": {},
   "source": [
    "### $|i\\rangle\\langle j|$"
   ]
  },
  {
   "cell_type": "code",
   "execution_count": 12,
   "metadata": {},
   "outputs": [
    {
     "name": "stdout",
     "output_type": "stream",
     "text": [
      "tensor Name : |+>\n",
      "tensor Rank : 1\n",
      "on device   : cpu\n",
      "is_diag     : False\n",
      "        ---------------     \n",
      "        |             |     \n",
      "    0 __| 2           |      \n",
      "        |             |     \n",
      "        ---------------     \n",
      "lbl:0 Dim = 2 |\n",
      "REGULAR :\n",
      "\n",
      "None\n",
      "tensor Name : \n",
      "tensor Rank : 1\n",
      "on device   : cpu\n",
      "is_diag     : False\n",
      "        ---------------     \n",
      "        |             |     \n",
      "        |           2 |__ 1  \n",
      "        |             |     \n",
      "        ---------------     \n",
      "lbl:1 Dim = 2 |\n",
      "REGULAR :\n",
      "\n",
      "None\n",
      "Tensor name: \n",
      "is_diag    : False\n",
      "tensor([[0., 1.],\n",
      "        [0., 0.]], dtype=torch.float64)\n",
      "\n",
      "tensor Name : \n",
      "tensor Rank : 2\n",
      "on device   : cpu\n",
      "is_diag     : False\n",
      "        ---------------     \n",
      "        |             |     \n",
      "    0 __| 2         2 |__ 1  \n",
      "        |             |     \n",
      "        ---------------     \n",
      "lbl:0 Dim = 2 |\n",
      "REGULAR :\n",
      "\n",
      "lbl:1 Dim = 2 |\n",
      "REGULAR :\n",
      "\n"
     ]
    }
   ],
   "source": [
    "up_ket.SetLabels([0])\n",
    "dn_bra.SetLabels([1])\n",
    "print(up_ket.Print_diagram())\n",
    "print(dn_bra.Print_diagram())\n",
    "\n",
    "ketbra = Tor10.Contract(up_ket, dn_bra)\n",
    "print(ketbra)\n",
    "ketbra.Print_diagram()"
   ]
  },
  {
   "cell_type": "code",
   "execution_count": 13,
   "metadata": {},
   "outputs": [
    {
     "name": "stdout",
     "output_type": "stream",
     "text": [
      "Tensor name: \n",
      "is_diag    : False\n",
      "tensor([[1., 0.],\n",
      "        [0., 0.]], dtype=torch.float64)\n",
      "\n",
      "Tensor name: \n",
      "is_diag    : False\n",
      "tensor([[0., 1.],\n",
      "        [0., 0.]], dtype=torch.float64)\n",
      "\n",
      "Tensor name: \n",
      "is_diag    : False\n",
      "tensor([[0., 0.],\n",
      "        [1., 0.]], dtype=torch.float64)\n",
      "\n",
      "Tensor name: \n",
      "is_diag    : False\n",
      "tensor([[0., 0.],\n",
      "        [0., 1.]], dtype=torch.float64)\n",
      "\n"
     ]
    }
   ],
   "source": [
    "for ket in [up_ket, dn_ket]:\n",
    "    for bra in [up_bra, dn_bra]:\n",
    "        ket.SetLabels([0])\n",
    "        bra.SetLabels([1])\n",
    "        ketbra = Tor10.Contract(ket, bra)\n",
    "        print(ketbra)"
   ]
  },
  {
   "cell_type": "markdown",
   "metadata": {},
   "source": [
    "### Outter product: otimes $\\otimes$"
   ]
  },
  {
   "cell_type": "code",
   "execution_count": 14,
   "metadata": {},
   "outputs": [],
   "source": [
    "# Tor10.Otimes(up_ket, up_bra) # cannot do this"
   ]
  },
  {
   "cell_type": "markdown",
   "metadata": {},
   "source": [
    "## Spin operators: $S^+, S^-, S^z$"
   ]
  },
  {
   "cell_type": "code",
   "execution_count": 30,
   "metadata": {},
   "outputs": [
    {
     "name": "stdout",
     "output_type": "stream",
     "text": [
      "Tensor name: Sp\n",
      "is_diag    : False\n",
      "tensor([[0., 1.],\n",
      "        [0., 0.]], dtype=torch.float64)\n",
      "\n",
      "tensor Name : Sp\n",
      "tensor Rank : 2\n",
      "on device   : cpu\n",
      "is_diag     : False\n",
      "        ---------------     \n",
      "        |             |     \n",
      "    0 __| 2         2 |__ 1  \n",
      "        |             |     \n",
      "        ---------------     \n",
      "lbl:0 Dim = 2 |\n",
      "REGULAR :\n",
      "\n",
      "lbl:1 Dim = 2 |\n",
      "REGULAR :\n",
      "\n",
      "None\n"
     ]
    }
   ],
   "source": [
    "Sp = Tor10.UniTensor(bonds=[bd,bd], N_inbond=1, name=\"Sp\")\n",
    "Sp.SetElem([0, 1,\n",
    "            0, 0])\n",
    "print(Sp)\n",
    "print(Sp.Print_diagram())"
   ]
  },
  {
   "cell_type": "code",
   "execution_count": 39,
   "metadata": {},
   "outputs": [
    {
     "name": "stdout",
     "output_type": "stream",
     "text": [
      "Tensor name: Sm\n",
      "is_diag    : False\n",
      "tensor([[0., 0.],\n",
      "        [1., 0.]], dtype=torch.float64)\n",
      "\n",
      "tensor Name : Sm\n",
      "tensor Rank : 2\n",
      "on device   : cpu\n",
      "is_diag     : False\n",
      "        ---------------     \n",
      "        |             |     \n",
      "    0 __| 2         2 |__ 1  \n",
      "        |             |     \n",
      "        ---------------     \n",
      "lbl:0 Dim = 2 |\n",
      "REGULAR :\n",
      "\n",
      "lbl:1 Dim = 2 |\n",
      "REGULAR :\n",
      "\n",
      "None\n"
     ]
    }
   ],
   "source": [
    "Sm = Tor10.UniTensor(bonds=[bd,bd], N_inbond=1, name=\"Sm\")\n",
    "Sm.SetElem([0, 0,\n",
    "            1, 0])\n",
    "print(Sm)\n",
    "print(Sm.Print_diagram())"
   ]
  },
  {
   "cell_type": "code",
   "execution_count": 40,
   "metadata": {},
   "outputs": [
    {
     "name": "stdout",
     "output_type": "stream",
     "text": [
      "Tensor name: Sz\n",
      "is_diag    : False\n",
      "tensor([[ 1.,  0.],\n",
      "        [ 0., -1.]], dtype=torch.float64)\n",
      "\n",
      "tensor Name : Sz\n",
      "tensor Rank : 2\n",
      "on device   : cpu\n",
      "is_diag     : False\n",
      "        ---------------     \n",
      "        |             |     \n",
      "    0 __| 2         2 |__ 1  \n",
      "        |             |     \n",
      "        ---------------     \n",
      "lbl:0 Dim = 2 |\n",
      "REGULAR :\n",
      "\n",
      "lbl:1 Dim = 2 |\n",
      "REGULAR :\n",
      "\n",
      "None\n"
     ]
    }
   ],
   "source": [
    "Sz = Tor10.UniTensor(bonds=[bd,bd], N_inbond=1, name=\"Sz\")\n",
    "Sz.SetElem([+1, 0,\n",
    "            0, -1])\n",
    "print(Sz)\n",
    "print(Sz.Print_diagram())"
   ]
  },
  {
   "cell_type": "markdown",
   "metadata": {},
   "source": [
    "## Two-sites operator via outterproduct: otimes $\\otimes$"
   ]
  },
  {
   "cell_type": "code",
   "execution_count": 49,
   "metadata": {},
   "outputs": [
    {
     "name": "stdout",
     "output_type": "stream",
     "text": [
      "Tensor name: \n",
      "is_diag    : False\n",
      "tensor([[0., 0., 0., 0.],\n",
      "        [0., 0., 1., 0.],\n",
      "        [0., 0., 0., 0.],\n",
      "        [0., 0., 0., 0.]], dtype=torch.float64)\n",
      "\n",
      "Tensor name: \n",
      "is_diag    : False\n",
      "tensor([[0., 0., 0., 0.],\n",
      "        [0., 0., 0., 0.],\n",
      "        [0., 1., 0., 0.],\n",
      "        [0., 0., 0., 0.]], dtype=torch.float64)\n",
      "\n",
      "Tensor name: \n",
      "is_diag    : False\n",
      "tensor([[ 1.,  0.,  0.,  0.],\n",
      "        [ 0., -1.,  0., -0.],\n",
      "        [ 0.,  0., -1., -0.],\n",
      "        [ 0., -0., -0.,  1.]], dtype=torch.float64)\n",
      "\n"
     ]
    }
   ],
   "source": [
    "SpSm = Tor10.linalg.Otimes(Sp, Sm)\n",
    "SmSp = Tor10.linalg.Otimes(Sm, Sp)\n",
    "SzSz = Tor10.linalg.Otimes(Sz, Sz)\n",
    "print(SpSm)\n",
    "print(SmSp)\n",
    "print(SzSz)"
   ]
  },
  {
   "cell_type": "code",
   "execution_count": 36,
   "metadata": {},
   "outputs": [
    {
     "name": "stdout",
     "output_type": "stream",
     "text": [
      "Tensor name: \n",
      "is_diag    : False\n",
      "tensor([[0., 0., 0., 0.],\n",
      "        [0., 0., 1., 0.],\n",
      "        [0., 1., 0., 0.],\n",
      "        [0., 0., 0., 0.]], dtype=torch.float64)\n",
      "\n"
     ]
    }
   ],
   "source": [
    "print(SpSm+SmSp)"
   ]
  },
  {
   "cell_type": "markdown",
   "metadata": {},
   "source": [
    "## Two-sites wavefunction"
   ]
  },
  {
   "cell_type": "code",
   "execution_count": 48,
   "metadata": {},
   "outputs": [
    {
     "name": "stdout",
     "output_type": "stream",
     "text": [
      "tensor Name : |+>\n",
      "tensor Rank : 1\n",
      "on device   : cpu\n",
      "is_diag     : False\n",
      "        ---------------     \n",
      "        |             |     \n",
      "    0 __| 2           |      \n",
      "        |             |     \n",
      "        ---------------     \n",
      "lbl:0 Dim = 2 |\n",
      "REGULAR :\n",
      "\n",
      "None\n",
      "tensor Name : |+>\n",
      "tensor Rank : 1\n",
      "on device   : cpu\n",
      "is_diag     : False\n",
      "        ---------------     \n",
      "        |             |     \n",
      "    1 __| 2           |      \n",
      "        |             |     \n",
      "        ---------------     \n",
      "lbl:1 Dim = 2 |\n",
      "REGULAR :\n",
      "\n",
      "None\n",
      "Tensor name: \n",
      "is_diag    : False\n",
      "tensor([[1., 0.],\n",
      "        [0., 0.]], dtype=torch.float64)\n",
      "\n",
      "tensor Name : \n",
      "tensor Rank : 2\n",
      "on device   : cpu\n",
      "is_diag     : False\n",
      "        ---------------     \n",
      "        |             |     \n",
      "    0 __| 2           |      \n",
      "        |             |     \n",
      "    1 __| 2           |      \n",
      "        |             |     \n",
      "        ---------------     \n",
      "lbl:0 Dim = 2 |\n",
      "REGULAR :\n",
      "\n",
      "lbl:1 Dim = 2 |\n",
      "REGULAR :\n",
      "\n"
     ]
    }
   ],
   "source": [
    "up1_ket = copy.deepcopy(up_ket)\n",
    "up2_ket = copy.deepcopy(up_ket)\n",
    "\n",
    "up1_ket.SetLabels([0])\n",
    "up2_ket.SetLabels([1])\n",
    "print(up1_ket.Print_diagram())\n",
    "print(up2_ket.Print_diagram())\n",
    "\n",
    "up1up2_ket = Tor10.Contract(up1_ket, up2_ket)\n",
    "print(up1up2_ket) # issue: should be a single column?\n",
    "up1up2_ket.Print_diagram()"
   ]
  },
  {
   "cell_type": "code",
   "execution_count": 53,
   "metadata": {},
   "outputs": [
    {
     "name": "stdout",
     "output_type": "stream",
     "text": [
      "Tensor name: \n",
      "is_diag    : False\n",
      "tensor([[0., 0.],\n",
      "        [0., 1.]], dtype=torch.float64)\n",
      "\n",
      "tensor Name : \n",
      "tensor Rank : 2\n",
      "on device   : cpu\n",
      "is_diag     : False\n",
      "        ---------------     \n",
      "        |             |     \n",
      "    0 __| 2           |      \n",
      "        |             |     \n",
      "    1 __| 2           |      \n",
      "        |             |     \n",
      "        ---------------     \n",
      "lbl:0 Dim = 2 |\n",
      "REGULAR :\n",
      "\n",
      "lbl:1 Dim = 2 |\n",
      "REGULAR :\n",
      "\n"
     ]
    }
   ],
   "source": [
    "dn1_ket = copy.deepcopy(dn_ket)\n",
    "dn2_ket = copy.deepcopy(dn_ket)\n",
    "\n",
    "dn1_ket.SetLabels([0])\n",
    "dn2_ket.SetLabels([1])\n",
    "# print(up1_ket.Print_diagram())\n",
    "# print(up2_ket.Print_diagram())\n",
    "\n",
    "dn1dn2_ket = Tor10.Contract(dn1_ket, dn2_ket)\n",
    "print(dn1dn2_ket) # issue: should be a single column?\n",
    "dn1dn2_ket.Print_diagram()"
   ]
  },
  {
   "cell_type": "markdown",
   "metadata": {},
   "source": [
    "## SVD"
   ]
  },
  {
   "cell_type": "code",
   "execution_count": 127,
   "metadata": {},
   "outputs": [
    {
     "name": "stdout",
     "output_type": "stream",
     "text": [
      "Tensor name: \n",
      "is_diag    : False\n",
      "tensor([[1., 1., 0., 1.],\n",
      "        [0., 0., 0., 1.],\n",
      "        [1., 1., 0., 0.]], dtype=torch.float64)\n",
      "\n",
      "tensor Name : \n",
      "tensor Rank : 2\n",
      "on device   : cpu\n",
      "is_diag     : False\n",
      "        ---------------     \n",
      "        |             |     \n",
      "    0 __| 3         4 |__ 1  \n",
      "        |             |     \n",
      "        ---------------     \n",
      "lbl:0 Dim = 3 |\n",
      "REGULAR :\n",
      "\n",
      "lbl:1 Dim = 4 |\n",
      "REGULAR :\n",
      "\n",
      "None\n"
     ]
    }
   ],
   "source": [
    "y = Tor10.UniTensor(bonds=[Tor10.Bond(3),Tor10.Bond(4)],N_inbond=1)\n",
    "y.SetElem([1,1,0,1,\n",
    "           0,0,0,1,\n",
    "           1,1,0,0])\n",
    "print(y)\n",
    "print(y.Print_diagram())"
   ]
  },
  {
   "cell_type": "code",
   "execution_count": 143,
   "metadata": {},
   "outputs": [
    {
     "name": "stdout",
     "output_type": "stream",
     "text": [
      "Tensor name: \n",
      "is_diag    : False\n",
      "tensor(8.4489e-16, dtype=torch.float64)\n",
      "\n",
      "Tensor name: \n",
      "is_diag    : False\n",
      "tensor([[ 4.4409e-16,  2.2204e-16,  0.0000e+00,  4.4409e-16],\n",
      "        [ 2.3606e-16, -6.9529e-17,  0.0000e+00,  0.0000e+00],\n",
      "        [ 0.0000e+00,  4.4409e-16,  0.0000e+00, -1.1102e-16]],\n",
      "       dtype=torch.float64)\n",
      "\n"
     ]
    }
   ],
   "source": [
    "u,s,vt = Tor10.Svd_truncate(y)\n",
    "us = Tor10.Contract(u, s)\n",
    "usvt = Tor10.Contract(us, vt)\n",
    "err = usvt - y\n",
    "print(err.Norm())\n",
    "print(err)\n",
    "\n",
    "# print(usvt)\n",
    "# print(usvt.Print_diagram())\n",
    "\n",
    "# print(u)\n",
    "# print(s)\n",
    "# print(vt)"
   ]
  },
  {
   "cell_type": "code",
   "execution_count": 145,
   "metadata": {},
   "outputs": [
    {
     "name": "stdout",
     "output_type": "stream",
     "text": [
      "Tensor name: x\n",
      "is_diag    : False\n",
      "tensor([[0.7151, 0.2564, 0.5226, 0.1144],\n",
      "        [0.4217, 0.0604, 0.2219, 0.0806],\n",
      "        [0.2516, 0.4563, 0.2322, 0.2803],\n",
      "        [0.4564, 0.7802, 0.3124, 0.0370]], dtype=torch.float64)\n",
      "\n",
      "tensor Name : x\n",
      "tensor Rank : 2\n",
      "on device   : cpu\n",
      "is_diag     : False\n",
      "        ---------------     \n",
      "        |             |     \n",
      "    0 __| 4         4 |__ 1  \n",
      "        |             |     \n",
      "        ---------------     \n",
      "lbl:0 Dim = 4 |\n",
      "REGULAR :\n",
      "\n",
      "lbl:1 Dim = 4 |\n",
      "REGULAR :\n",
      "\n",
      "None\n"
     ]
    }
   ],
   "source": [
    "x = Tor10.UniTensor([Tor10.Bond(4), Tor10.Bond(4)], N_inbond=1, name='x')\n",
    "x.Rand()\n",
    "print(x)\n",
    "print(x.Print_diagram())"
   ]
  },
  {
   "cell_type": "code",
   "execution_count": 166,
   "metadata": {},
   "outputs": [
    {
     "name": "stdout",
     "output_type": "stream",
     "text": [
      "tensor Name : x\n",
      "tensor Rank : 2\n",
      "on device   : cpu\n",
      "is_diag     : False\n",
      "        ---------------     \n",
      "        |             |     \n",
      "    0 __| 10       10 |__ 1  \n",
      "        |             |     \n",
      "        ---------------     \n",
      "lbl:0 Dim = 10 |\n",
      "REGULAR :\n",
      "\n",
      "lbl:1 Dim = 10 |\n",
      "REGULAR :\n",
      "\n",
      "None\n",
      "Dcut=1\n",
      "Tensor name: \n",
      "is_diag    : False\n",
      "tensor(2.5717, dtype=torch.float64)\n",
      "\n",
      "Dcut=2\n",
      "Tensor name: \n",
      "is_diag    : False\n",
      "tensor(2.1010, dtype=torch.float64)\n",
      "\n",
      "Dcut=3\n",
      "Tensor name: \n",
      "is_diag    : False\n",
      "tensor(1.7525, dtype=torch.float64)\n",
      "\n",
      "Dcut=4\n",
      "Tensor name: \n",
      "is_diag    : False\n",
      "tensor(1.4238, dtype=torch.float64)\n",
      "\n",
      "Dcut=5\n",
      "Tensor name: \n",
      "is_diag    : False\n",
      "tensor(1.1330, dtype=torch.float64)\n",
      "\n",
      "Dcut=6\n",
      "Tensor name: \n",
      "is_diag    : False\n",
      "tensor(0.8043, dtype=torch.float64)\n",
      "\n",
      "Dcut=7\n",
      "Tensor name: \n",
      "is_diag    : False\n",
      "tensor(0.6174, dtype=torch.float64)\n",
      "\n",
      "Dcut=8\n",
      "Tensor name: \n",
      "is_diag    : False\n",
      "tensor(0.3785, dtype=torch.float64)\n",
      "\n",
      "Dcut=9\n",
      "Tensor name: \n",
      "is_diag    : False\n",
      "tensor(0.0434, dtype=torch.float64)\n",
      "\n",
      "Dcut=10\n",
      "Tensor name: \n",
      "is_diag    : False\n",
      "tensor(3.8508e-14, dtype=torch.float64)\n",
      "\n"
     ]
    }
   ],
   "source": [
    "D = 4\n",
    "x = Tor10.UniTensor([Tor10.Bond(D), Tor10.Bond(D)], N_inbond=1, name='x')\n",
    "x.Rand()\n",
    "# print(x)\n",
    "print(x.Print_diagram())\n",
    "\n",
    "for Dcut in range(1, D+1):\n",
    "    u, s, vt = Tor10.Svd_truncate(x, Dcut)\n",
    "    us = Tor10.Contract(u, s)\n",
    "    usvt = Tor10.Contract(us, vt)\n",
    "    err = usvt - x\n",
    "    print('Dcut={}'.format(Dcut))\n",
    "    print(err.Norm())"
   ]
  },
  {
   "cell_type": "markdown",
   "metadata": {},
   "source": [
    "### Bell state"
   ]
  },
  {
   "cell_type": "code",
   "execution_count": 167,
   "metadata": {},
   "outputs": [
    {
     "name": "stdout",
     "output_type": "stream",
     "text": [
      "Tensor name: \n",
      "is_diag    : False\n",
      "tensor([[1., 0.],\n",
      "        [0., 1.]], dtype=torch.float64)\n",
      "\n"
     ]
    }
   ],
   "source": [
    "Bell1 = up1up2_ket + dn1dn2_ket\n",
    "print(Bell1)"
   ]
  },
  {
   "cell_type": "code",
   "execution_count": 172,
   "metadata": {},
   "outputs": [
    {
     "name": "stdout",
     "output_type": "stream",
     "text": [
      "Tensor name: \n",
      "is_diag    : True\n",
      "tensor([1., 1.], dtype=torch.float64)\n",
      "\n",
      "Tensor name: \n",
      "is_diag    : False\n",
      "tensor([[1., 0.],\n",
      "        [0., 1.]], dtype=torch.float64)\n",
      "\n",
      "Tensor name: \n",
      "is_diag    : False\n",
      "tensor([[1., 0.],\n",
      "        [0., 1.]], dtype=torch.float64)\n",
      "\n"
     ]
    }
   ],
   "source": [
    "u, s, vt = Tor10.Svd_truncate(Bell1)\n",
    "\n",
    "print(s)\n",
    "print(u)\n",
    "print(vt)"
   ]
  },
  {
   "cell_type": "code",
   "execution_count": 67,
   "metadata": {},
   "outputs": [
    {
     "name": "stdout",
     "output_type": "stream",
     "text": [
      "Tensor name: \n",
      "is_diag    : False\n",
      "tensor([[1., 1., 0., 1.],\n",
      "        [0., 0., 0., 1.],\n",
      "        [1., 1., 0., 0.]], dtype=torch.float64)\n",
      "\n"
     ]
    }
   ],
   "source": [
    "y = Tor10.UniTensor(bonds=[Tor10.Bond(3),Tor10.Bond(4)], N_inbond=1)\n",
    "y.SetElem([1,1,0,1, \n",
    "           0,0,0,1,\n",
    "           1,1,0,0])\n",
    "print(y)"
   ]
  },
  {
   "cell_type": "code",
   "execution_count": 173,
   "metadata": {},
   "outputs": [
    {
     "name": "stdout",
     "output_type": "stream",
     "text": [
      "tensor Name : \n",
      "tensor Rank : 3\n",
      "on device   : cpu\n",
      "is_diag     : False\n",
      "        ---------------     \n",
      "        |             |     \n",
      "    6 __| 2         3 |__ 7  \n",
      "        |             |     \n",
      "        |           4 |__ 8  \n",
      "        |             |     \n",
      "        ---------------     \n",
      "lbl:6 Dim = 2 |\n",
      "REGULAR :\n",
      "\n",
      "lbl:7 Dim = 3 |\n",
      "REGULAR :\n",
      "\n",
      "lbl:8 Dim = 4 |\n",
      "REGULAR :\n",
      "\n"
     ]
    }
   ],
   "source": [
    "x = Tor10.From_torch(torch.arange(0.1,2.5,0.1).reshape(2,3,4).to(torch.float64),labels=[6,7,8],N_inbond=1)\n",
    "x.Print_diagram()"
   ]
  },
  {
   "cell_type": "code",
   "execution_count": 65,
   "metadata": {},
   "outputs": [],
   "source": [
    "factors, core = Tor10.Hosvd(x,order=[7,6,8],bonds_group=[2,1],by_label=True)"
   ]
  },
  {
   "cell_type": "code",
   "execution_count": 66,
   "metadata": {},
   "outputs": [
    {
     "name": "stdout",
     "output_type": "stream",
     "text": [
      "tensor Name : \n",
      "tensor Rank : 2\n",
      "on device   : cpu\n",
      "is_diag     : False\n",
      "        ---------------     \n",
      "        |             |     \n",
      "   -1 __| 4           |      \n",
      "        |             |     \n",
      "   -2 __| 4           |      \n",
      "        |             |     \n",
      "        ---------------     \n",
      "lbl:-1 Dim = 4 |\n",
      "REGULAR :\n",
      "\n",
      "lbl:-2 Dim = 4 |\n",
      "REGULAR :\n",
      "\n"
     ]
    }
   ],
   "source": [
    "core.Print_diagram()"
   ]
  },
  {
   "cell_type": "code",
   "execution_count": null,
   "metadata": {},
   "outputs": [],
   "source": []
  }
 ],
 "metadata": {
  "kernelspec": {
   "display_name": "Python 3",
   "language": "python",
   "name": "python3"
  },
  "language_info": {
   "codemirror_mode": {
    "name": "ipython",
    "version": 3
   },
   "file_extension": ".py",
   "mimetype": "text/x-python",
   "name": "python",
   "nbconvert_exporter": "python",
   "pygments_lexer": "ipython3",
   "version": "3.6.8"
  }
 },
 "nbformat": 4,
 "nbformat_minor": 2
}
