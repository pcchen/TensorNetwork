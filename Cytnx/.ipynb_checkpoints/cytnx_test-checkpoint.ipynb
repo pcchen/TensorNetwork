{
 "cells": [
  {
   "cell_type": "markdown",
   "metadata": {},
   "source": [
    "# Tensor Network\n",
    "\n",
    "## Cytnx test\n",
    "\n",
    "This notebook requires [Cytnx](https://github.com/kaihsin/Cytnx).\n",
    "\n",
    "## Name conventions\n",
    "\n",
    "* Method with underscore as last character ==> inplace."
   ]
  },
  {
   "cell_type": "code",
   "execution_count": 1,
   "metadata": {},
   "outputs": [],
   "source": [
    "import cytnx"
   ]
  },
  {
   "cell_type": "markdown",
   "metadata": {},
   "source": [
    "## Tensor\n",
    "\n",
    "A Cytnx Tensor is basically a multi-dimensional array that is similar to a numpy array.\n",
    "\n",
    "* cytnx.Tensor.shape()"
   ]
  },
  {
   "cell_type": "code",
   "execution_count": 2,
   "metadata": {},
   "outputs": [
    {
     "name": "stdout",
     "output_type": "stream",
     "text": [
      "\n",
      "Total elem: 4\n",
      "type  : Double (Float64)\n",
      "cytnx device: CPU\n",
      "Shape : (2,2)\n",
      "[[-1.72723e-77 -1.72723e-77 ]\n",
      " [3.45846e-323 0.00000e+00 ]]\n",
      "\n",
      "\n",
      "\n",
      "\n",
      "Total elem: 4\n",
      "type  : Double (Float64)\n",
      "cytnx device: CPU\n",
      "Shape : (2,2)\n",
      "[[0.00000e+00 1.00000e+00 ]\n",
      " [1.00000e+00 0.00000e+00 ]]\n",
      "\n",
      "\n",
      "\n",
      "[2, 2]\n"
     ]
    }
   ],
   "source": [
    "T = cytnx.Tensor([2,2])\n",
    "print(T)\n",
    "\n",
    "T[0, 0] = 0.0\n",
    "T[0, 1] = 1.0\n",
    "T[1, 0] = 1.0\n",
    "T[1, 1] = 0.0\n",
    "print(T)\n",
    "print(T.shape())"
   ]
  },
  {
   "cell_type": "markdown",
   "metadata": {},
   "source": [
    "### Tensor generators\n",
    "* cytnx.zeros()\n",
    "* cytnx.ones()\n",
    "* cytnx.arange()"
   ]
  },
  {
   "cell_type": "code",
   "execution_count": 3,
   "metadata": {},
   "outputs": [
    {
     "name": "stdout",
     "output_type": "stream",
     "text": [
      "\n",
      "Total elem: 4\n",
      "type  : Double (Float64)\n",
      "cytnx device: CPU\n",
      "Shape : (2,2)\n",
      "[[0.00000e+00 0.00000e+00 ]\n",
      " [0.00000e+00 0.00000e+00 ]]\n",
      "\n",
      "\n",
      "\n",
      "\n",
      "Total elem: 4\n",
      "type  : Double (Float64)\n",
      "cytnx device: CPU\n",
      "Shape : (2,2)\n",
      "[[0.00000e+00 1.00000e+00 ]\n",
      " [1.00000e+00 0.00000e+00 ]]\n",
      "\n",
      "\n",
      "\n"
     ]
    }
   ],
   "source": [
    "T = cytnx.zeros([2,2])\n",
    "print(T)\n",
    "\n",
    "T[0, 0] = 0.0\n",
    "T[0, 1] = 1.0\n",
    "T[1, 0] = 1.0\n",
    "T[1, 1] = 0.0\n",
    "print(T)"
   ]
  },
  {
   "cell_type": "code",
   "execution_count": 4,
   "metadata": {},
   "outputs": [
    {
     "name": "stdout",
     "output_type": "stream",
     "text": [
      "\n",
      "Total elem: 10\n",
      "type  : Double (Float64)\n",
      "cytnx device: CPU\n",
      "Shape : (10)\n",
      "[0.00000e+00 1.00000e+00 2.00000e+00 3.00000e+00 4.00000e+00 5.00000e+00 6.00000e+00 7.00000e+00 8.00000e+00 9.00000e+00 ]\n",
      "\n",
      "\n",
      "\n",
      "[10]\n",
      "\n",
      "Total elem: 10\n",
      "type  : Double (Float64)\n",
      "cytnx device: CPU\n",
      "Shape : (2,5)\n",
      "[[0.00000e+00 1.00000e+00 2.00000e+00 3.00000e+00 4.00000e+00 ]\n",
      " [5.00000e+00 6.00000e+00 7.00000e+00 8.00000e+00 9.00000e+00 ]]\n",
      "\n",
      "\n",
      "\n",
      "[2, 5]\n"
     ]
    }
   ],
   "source": [
    "T = cytnx.arange(10)\n",
    "print(T)\n",
    "print(T.shape())\n",
    "\n",
    "T.reshape_(2, 5)\n",
    "print(T)\n",
    "print(T.shape())"
   ]
  },
  {
   "cell_type": "code",
   "execution_count": 5,
   "metadata": {},
   "outputs": [
    {
     "name": "stdout",
     "output_type": "stream",
     "text": [
      "\n",
      "Total elem: 10\n",
      "type  : Double (Float64)\n",
      "cytnx device: CPU\n",
      "Shape : (10)\n",
      "[0.00000e+00 1.00000e+00 2.00000e+00 3.00000e+00 4.00000e+00 5.00000e+00 6.00000e+00 7.00000e+00 8.00000e+00 9.00000e+00 ]\n",
      "\n",
      "\n",
      "\n",
      "[10]\n"
     ]
    }
   ],
   "source": [
    "T = cytnx.arange(10)\n",
    "print(T)\n",
    "print(T.shape())\n",
    "\n",
    "TT = T.reshape(2, 5)"
   ]
  },
  {
   "cell_type": "code",
   "execution_count": 6,
   "metadata": {},
   "outputs": [
    {
     "name": "stdout",
     "output_type": "stream",
     "text": [
      "\n",
      "Total elem: 4\n",
      "type  : Double (Float64)\n",
      "cytnx device: CPU\n",
      "Shape : (2,2)\n",
      "[[1.00000e+00 1.00000e+00 ]\n",
      " [1.00000e+00 1.00000e+00 ]]\n",
      "\n",
      "\n",
      "\n",
      "\n",
      "Total elem: 2\n",
      "type  : Double (Float64)\n",
      "cytnx device: CPU\n",
      "Shape : (2)\n",
      "[2.00000e+00 1.43494e-17 ]\n",
      "\n",
      "\n",
      "\n",
      "\n",
      "Total elem: 4\n",
      "type  : Double (Float64)\n",
      "cytnx device: CPU\n",
      "Shape : (2,2)\n",
      "[[-7.07107e-01 -7.07107e-01 ]\n",
      " [-7.07107e-01 7.07107e-01 ]]\n",
      "\n",
      "\n",
      "\n",
      "\n",
      "Total elem: 4\n",
      "type  : Double (Float64)\n",
      "cytnx device: CPU\n",
      "Shape : (2,2)\n",
      "[[-7.07107e-01 -7.07107e-01 ]\n",
      " [-7.07107e-01 7.07107e-01 ]]\n",
      "\n",
      "\n",
      "\n"
     ]
    }
   ],
   "source": [
    "T = cytnx.ones([2,2])\n",
    "print(T)\n",
    "A, B, C = T.Svd(True, True)\n",
    "\n",
    "print(A)\n",
    "\n",
    "print(B)\n",
    "\n",
    "print(C)"
   ]
  },
  {
   "cell_type": "markdown",
   "metadata": {},
   "source": [
    "## Bonds\n",
    "* bondType.BD_REG\n",
    "* bondType.BD_BRA\n",
    "* bondType.BD_KET"
   ]
  },
  {
   "cell_type": "markdown",
   "metadata": {},
   "source": [
    "### Regular bonds"
   ]
  },
  {
   "cell_type": "code",
   "execution_count": 7,
   "metadata": {},
   "outputs": [
    {
     "name": "stdout",
     "output_type": "stream",
     "text": [
      "True\n",
      "False\n",
      "True\n",
      "False\n"
     ]
    }
   ],
   "source": [
    "bd1 = cytnx.Bond(2)\n",
    "bd2 = cytnx.Bond(2, cytnx.bondType.BD_REG)\n",
    "bd3 = cytnx.Bond(2)\n",
    "\n",
    "print(bd1 == bd2)\n",
    "print(bd1 is bd2)\n",
    "\n",
    "print(bd1 == bd3)\n",
    "print(bd1 is bd3)"
   ]
  },
  {
   "cell_type": "code",
   "execution_count": 8,
   "metadata": {},
   "outputs": [
    {
     "name": "stdout",
     "output_type": "stream",
     "text": [
      "Dim = 2 |type: REGULAR \n",
      "\n",
      "\n",
      "0\n",
      "[]\n",
      "[]\n"
     ]
    }
   ],
   "source": [
    "bd = cytnx.Bond(2)\n",
    "print(bd)\n",
    "\n",
    "print(bd.Nsym())\n",
    "print(bd.syms())\n",
    "print(bd.qnums())"
   ]
  },
  {
   "cell_type": "code",
   "execution_count": 9,
   "metadata": {},
   "outputs": [
    {
     "ename": "RuntimeError",
     "evalue": "\n# Cytnx error occur at void cytnx::Bond_impl::Init(const cytnx::cytnx_uint64 &, const cytnx::bondType &, const std::vector<std::vector<cytnx_int64> > &, const std::vector<Symmetry> &)\n# error: [ERROR] bond with qnums (symmetry) can only have bond_type=BD_BRA or BD_KET\n# file : src/Bond.cpp (42)",
     "output_type": "error",
     "traceback": [
      "\u001b[0;31m---------------------------------------------------------------------------\u001b[0m",
      "\u001b[0;31mRuntimeError\u001b[0m                              Traceback (most recent call last)",
      "\u001b[0;32m<ipython-input-9-aef5fa6c8e8d>\u001b[0m in \u001b[0;36m<module>\u001b[0;34m()\u001b[0m\n\u001b[0;32m----> 1\u001b[0;31m \u001b[0mbd_sym\u001b[0m \u001b[0;34m=\u001b[0m \u001b[0mcytnx\u001b[0m\u001b[0;34m.\u001b[0m\u001b[0mBond\u001b[0m\u001b[0;34m(\u001b[0m\u001b[0;36m2\u001b[0m\u001b[0;34m,\u001b[0m\u001b[0mcytnx\u001b[0m\u001b[0;34m.\u001b[0m\u001b[0mbondType\u001b[0m\u001b[0;34m.\u001b[0m\u001b[0mBD_REG\u001b[0m\u001b[0;34m,\u001b[0m\u001b[0;34m[\u001b[0m\u001b[0;34m[\u001b[0m\u001b[0;36m0\u001b[0m\u001b[0;34m]\u001b[0m\u001b[0;34m,\u001b[0m \u001b[0;34m[\u001b[0m\u001b[0;36m1\u001b[0m\u001b[0;34m]\u001b[0m\u001b[0;34m]\u001b[0m\u001b[0;34m,\u001b[0m\u001b[0;34m[\u001b[0m\u001b[0mcytnx\u001b[0m\u001b[0;34m.\u001b[0m\u001b[0mSymmetry\u001b[0m\u001b[0;34m.\u001b[0m\u001b[0mZn\u001b[0m\u001b[0;34m(\u001b[0m\u001b[0;36m2\u001b[0m\u001b[0;34m)\u001b[0m\u001b[0;34m]\u001b[0m\u001b[0;34m)\u001b[0m\u001b[0;34m\u001b[0m\u001b[0;34m\u001b[0m\u001b[0m\n\u001b[0m\u001b[1;32m      2\u001b[0m \u001b[0;34m\u001b[0m\u001b[0m\n\u001b[1;32m      3\u001b[0m \u001b[0mprint\u001b[0m\u001b[0;34m(\u001b[0m\u001b[0mbd_sym\u001b[0m\u001b[0;34m.\u001b[0m\u001b[0mNsym\u001b[0m\u001b[0;34m(\u001b[0m\u001b[0;34m)\u001b[0m\u001b[0;34m)\u001b[0m\u001b[0;34m\u001b[0m\u001b[0;34m\u001b[0m\u001b[0m\n\u001b[1;32m      4\u001b[0m \u001b[0mprint\u001b[0m\u001b[0;34m(\u001b[0m\u001b[0mbd_sym\u001b[0m\u001b[0;34m.\u001b[0m\u001b[0msyms\u001b[0m\u001b[0;34m(\u001b[0m\u001b[0;34m)\u001b[0m\u001b[0;34m)\u001b[0m\u001b[0;34m\u001b[0m\u001b[0;34m\u001b[0m\u001b[0m\n\u001b[1;32m      5\u001b[0m \u001b[0mprint\u001b[0m\u001b[0;34m(\u001b[0m\u001b[0mbd_sym\u001b[0m\u001b[0;34m.\u001b[0m\u001b[0mqnums\u001b[0m\u001b[0;34m(\u001b[0m\u001b[0;34m)\u001b[0m\u001b[0;34m)\u001b[0m\u001b[0;34m\u001b[0m\u001b[0;34m\u001b[0m\u001b[0m\n",
      "\u001b[0;31mRuntimeError\u001b[0m: \n# Cytnx error occur at void cytnx::Bond_impl::Init(const cytnx::cytnx_uint64 &, const cytnx::bondType &, const std::vector<std::vector<cytnx_int64> > &, const std::vector<Symmetry> &)\n# error: [ERROR] bond with qnums (symmetry) can only have bond_type=BD_BRA or BD_KET\n# file : src/Bond.cpp (42)"
     ]
    }
   ],
   "source": [
    "# this should fail\n",
    "# # error: [ERROR] bond with qnums (symmetry) can only have bond_type=BD_BRA or BD_KET\n",
    "bd_sym = cytnx.Bond(2,cytnx.bondType.BD_REG,[[0], [1]],[cytnx.Symmetry.Zn(2)])\n",
    "\n",
    "print(bd_sym.Nsym())\n",
    "print(bd_sym.syms())\n",
    "print(bd_sym.qnums())"
   ]
  },
  {
   "cell_type": "markdown",
   "metadata": {},
   "source": [
    "### Bra bonds and Ket bonds"
   ]
  },
  {
   "cell_type": "code",
   "execution_count": 13,
   "metadata": {},
   "outputs": [
    {
     "name": "stdout",
     "output_type": "stream",
     "text": [
      "Dim = 2 |type: REGULAR \n",
      "\n",
      "\n",
      "Dim = 2 |type: KET>     \n",
      "\n",
      "\n",
      "Dim = 2 |type: <BRA     \n",
      "\n",
      "\n"
     ]
    }
   ],
   "source": [
    "bd = cytnx.Bond(2, cytnx.bondType.BD_REG)\n",
    "print(bd)\n",
    "\n",
    "ket = cytnx.Bond(2, cytnx.bondType.BD_KET)\n",
    "print(ket)\n",
    "\n",
    "bra = cytnx.Bond(2, cytnx.bondType.BD_BRA)\n",
    "print(bra)"
   ]
  },
  {
   "cell_type": "markdown",
   "metadata": {},
   "source": [
    "## Symmetry\n",
    "* cytnx.Symmetry.U1(), $q \\in (-\\infty, +\\infty)$.\n",
    "* cytnx.Symmetry.Zn(N), $q \\in (0,N)$."
   ]
  },
  {
   "cell_type": "code",
   "execution_count": 19,
   "metadata": {},
   "outputs": [
    {
     "name": "stdout",
     "output_type": "stream",
     "text": [
      "True\n",
      "False\n",
      "True\n",
      "False\n",
      "True\n",
      "False\n",
      "False\n"
     ]
    }
   ],
   "source": [
    "U1 = cytnx.Symmetry.U1()\n",
    "Z2 = cytnx.Symmetry.Zn(2)\n",
    "Z2p = cytnx.Symmetry.Zn(2)\n",
    "Z3 = cytnx.Symmetry.Zn(3)\n",
    "\n",
    "print(U1 == cytnx.Symmetry.U1())\n",
    "print(U1 is cytnx.Symmetry.U1())\n",
    "\n",
    "print(Z2 == cytnx.Symmetry.Zn(2))\n",
    "print(Z2 is cytnx.Symmetry.Zn(2))\n",
    "\n",
    "print(Z2 == Z2p)\n",
    "print(Z2 is Z2p)\n",
    "\n",
    "print(Z2 == Z3)"
   ]
  },
  {
   "cell_type": "markdown",
   "metadata": {},
   "source": [
    "## Bonds with Symmetires\n",
    "* \n",
    "* "
   ]
  },
  {
   "cell_type": "markdown",
   "metadata": {},
   "source": [
    "### Must be a ket bond or a bra bond."
   ]
  },
  {
   "cell_type": "code",
   "execution_count": 31,
   "metadata": {},
   "outputs": [
    {
     "ename": "RuntimeError",
     "evalue": "\n# Cytnx error occur at void cytnx::Bond_impl::Init(const cytnx::cytnx_uint64 &, const cytnx::bondType &, const std::vector<std::vector<cytnx_int64> > &, const std::vector<Symmetry> &)\n# error: [ERROR] bond with qnums (symmetry) can only have bond_type=BD_BRA or BD_KET\n# file : src/Bond.cpp (42)",
     "output_type": "error",
     "traceback": [
      "\u001b[0;31m---------------------------------------------------------------------------\u001b[0m",
      "\u001b[0;31mRuntimeError\u001b[0m                              Traceback (most recent call last)",
      "\u001b[0;32m<ipython-input-31-1e92ddc05961>\u001b[0m in \u001b[0;36m<module>\u001b[0;34m()\u001b[0m\n\u001b[0;32m----> 1\u001b[0;31m \u001b[0mbd_sym\u001b[0m \u001b[0;34m=\u001b[0m \u001b[0mcytnx\u001b[0m\u001b[0;34m.\u001b[0m\u001b[0mBond\u001b[0m\u001b[0;34m(\u001b[0m\u001b[0;36m2\u001b[0m\u001b[0;34m,\u001b[0m \u001b[0mcytnx\u001b[0m\u001b[0;34m.\u001b[0m\u001b[0mbondType\u001b[0m\u001b[0;34m.\u001b[0m\u001b[0mBD_REG\u001b[0m\u001b[0;34m,\u001b[0m \u001b[0;34m[\u001b[0m\u001b[0;34m[\u001b[0m\u001b[0;36m0\u001b[0m\u001b[0;34m]\u001b[0m\u001b[0;34m,\u001b[0m \u001b[0;34m[\u001b[0m\u001b[0;36m1\u001b[0m\u001b[0;34m]\u001b[0m\u001b[0;34m]\u001b[0m\u001b[0;34m,\u001b[0m \u001b[0;34m[\u001b[0m\u001b[0mcytnx\u001b[0m\u001b[0;34m.\u001b[0m\u001b[0mSymmetry\u001b[0m\u001b[0;34m.\u001b[0m\u001b[0mU1\u001b[0m\u001b[0;34m(\u001b[0m\u001b[0;34m)\u001b[0m\u001b[0;34m]\u001b[0m\u001b[0;34m)\u001b[0m\u001b[0;34m\u001b[0m\u001b[0;34m\u001b[0m\u001b[0m\n\u001b[0m\u001b[1;32m      2\u001b[0m \u001b[0mprint\u001b[0m\u001b[0;34m(\u001b[0m\u001b[0mbd_sym\u001b[0m\u001b[0;34m)\u001b[0m\u001b[0;34m\u001b[0m\u001b[0;34m\u001b[0m\u001b[0m\n",
      "\u001b[0;31mRuntimeError\u001b[0m: \n# Cytnx error occur at void cytnx::Bond_impl::Init(const cytnx::cytnx_uint64 &, const cytnx::bondType &, const std::vector<std::vector<cytnx_int64> > &, const std::vector<Symmetry> &)\n# error: [ERROR] bond with qnums (symmetry) can only have bond_type=BD_BRA or BD_KET\n# file : src/Bond.cpp (42)"
     ]
    }
   ],
   "source": [
    "bd_sym = cytnx.Bond(2, cytnx.bondType.BD_REG, [[0], [1]], [cytnx.Symmetry.U1()])\n",
    "print(bd_sym)"
   ]
  },
  {
   "cell_type": "markdown",
   "metadata": {},
   "source": [
    "### U(1) by default."
   ]
  },
  {
   "cell_type": "code",
   "execution_count": 33,
   "metadata": {},
   "outputs": [
    {
     "name": "stdout",
     "output_type": "stream",
     "text": [
      "Dim = 2 |type: KET>     \n",
      " U1::  +0 +1\n",
      "\n",
      "\n",
      "Dim = 2 |type: KET>     \n",
      " U1::  +0 +1\n",
      "\n",
      "\n",
      "True\n"
     ]
    }
   ],
   "source": [
    "ket = cytnx.Bond(2, cytnx.bondType.BD_KET, [[0], [1]])\n",
    "print(ket)\n",
    "\n",
    "ket_U1 = cytnx.Bond(2, cytnx.bondType.BD_KET, [[0], [1]], [cytnx.Symmetry.U1()])\n",
    "print(ket_U1)\n",
    "\n",
    "print(ket == ket_U1)"
   ]
  },
  {
   "cell_type": "code",
   "execution_count": 27,
   "metadata": {},
   "outputs": [],
   "source": [
    "ket = cytnx.Bond(2, cytnx.bondType.BD_KET, [[0], [1]],[cytnx.Symmetry.Zn(2)])\n",
    "\n",
    "bra = cytnx.Bond(2, cytnx.bondType.BD_BRA, [[0], [1]],[cytnx.Symmetry.Zn(2)])"
   ]
  },
  {
   "cell_type": "code",
   "execution_count": null,
   "metadata": {},
   "outputs": [],
   "source": []
  },
  {
   "cell_type": "code",
   "execution_count": 47,
   "metadata": {},
   "outputs": [
    {
     "name": "stdout",
     "output_type": "stream",
     "text": [
      "tensor Name : \n",
      "tensor Rank : 2\n",
      "block_form  : true\n",
      "valid bocks : 2\n",
      "on device   : cytnx device: CPU\n",
      "braket_form : True\n",
      "      |ket>               <bra| \n",
      "           ---------------      \n",
      "           |             |     \n",
      "    10 > __| 2       2   |__ < 11 \n",
      "           |             |     \n",
      "           ---------------     \n"
     ]
    },
    {
     "ename": "RuntimeError",
     "evalue": "\n# Cytnx error occur at virtual cytnx::Tensor cytnx::SparseUniTensor::get_block(const cytnx::cytnx_uint64 &) const\n# error: [Developing]\n\n# file : ./include/UniTensor.hpp (431)",
     "output_type": "error",
     "traceback": [
      "\u001b[0;31m---------------------------------------------------------------------------\u001b[0m",
      "\u001b[0;31mRuntimeError\u001b[0m                              Traceback (most recent call last)",
      "\u001b[0;32m<ipython-input-47-9125064937c9>\u001b[0m in \u001b[0;36m<module>\u001b[0;34m()\u001b[0m\n\u001b[1;32m      6\u001b[0m \u001b[0;31m# T.put_block(A)\u001b[0m\u001b[0;34m\u001b[0m\u001b[0;34m\u001b[0m\u001b[0;34m\u001b[0m\u001b[0m\n\u001b[1;32m      7\u001b[0m \u001b[0mT\u001b[0m\u001b[0;34m.\u001b[0m\u001b[0mprint_diagram\u001b[0m\u001b[0;34m(\u001b[0m\u001b[0;34m)\u001b[0m\u001b[0;34m\u001b[0m\u001b[0;34m\u001b[0m\u001b[0m\n\u001b[0;32m----> 8\u001b[0;31m \u001b[0mprint\u001b[0m\u001b[0;34m(\u001b[0m\u001b[0mT\u001b[0m\u001b[0;34m.\u001b[0m\u001b[0mget_block\u001b[0m\u001b[0;34m(\u001b[0m\u001b[0;34m)\u001b[0m\u001b[0;34m)\u001b[0m\u001b[0;34m\u001b[0m\u001b[0;34m\u001b[0m\u001b[0m\n\u001b[0m\u001b[1;32m      9\u001b[0m \u001b[0mdir\u001b[0m\u001b[0;34m(\u001b[0m\u001b[0mT\u001b[0m\u001b[0;34m)\u001b[0m\u001b[0;34m\u001b[0m\u001b[0;34m\u001b[0m\u001b[0m\n",
      "\u001b[0;31mRuntimeError\u001b[0m: \n# Cytnx error occur at virtual cytnx::Tensor cytnx::SparseUniTensor::get_block(const cytnx::cytnx_uint64 &) const\n# error: [Developing]\n\n# file : ./include/UniTensor.hpp (431)"
     ]
    }
   ],
   "source": [
    "ket = cytnx.Bond(2, cytnx.bondType.BD_KET, [[0], [1]],[cytnx.Symmetry.Zn(2)])\n",
    "bra = cytnx.Bond(2, cytnx.bondType.BD_BRA, [[0], [1]],[cytnx.Symmetry.Zn(2)])\n",
    "\n",
    "T = cytnx.UniTensor(bonds=[ket, bra], in_labels=[10,11], Rowrank=1)\n",
    "# print(T)\n",
    "# T.put_block(A)\n",
    "T.print_diagram()\n",
    "print(T.get_block())\n",
    "dir(T)"
   ]
  },
  {
   "cell_type": "code",
   "execution_count": null,
   "metadata": {},
   "outputs": [],
   "source": []
  },
  {
   "cell_type": "markdown",
   "metadata": {},
   "source": [
    "## Bonds with symmetry"
   ]
  },
  {
   "cell_type": "code",
   "execution_count": 37,
   "metadata": {},
   "outputs": [
    {
     "name": "stdout",
     "output_type": "stream",
     "text": [
      "Dim = 2 |type: REGULAR \n",
      " Z2::  +0 +1\n",
      "\n",
      "\n"
     ]
    }
   ],
   "source": [
    "bd_sym = cytnx.Bond(2, cytnx.bondType.BD_REG, [[0], [1]], [Z2])\n",
    "print(bd_sym)"
   ]
  },
  {
   "cell_type": "code",
   "execution_count": 31,
   "metadata": {},
   "outputs": [
    {
     "ename": "RuntimeError",
     "evalue": "\n# Cytnx error occur at void cytnx::Bond_impl::Init(const cytnx::cytnx_uint64 &, const cytnx::bondType &, const std::vector<std::vector<cytnx_int64> > &, const std::vector<Symmetry> &)\n# error: [ERROR] invalid qnums @ index 2 with Symmetry: Z2\n\n# file : src/Bond.cpp (45)",
     "output_type": "error",
     "traceback": [
      "\u001b[0;31m---------------------------------------------------------------------------\u001b[0m",
      "\u001b[0;31mRuntimeError\u001b[0m                              Traceback (most recent call last)",
      "\u001b[0;32m<ipython-input-31-b655625cbb3e>\u001b[0m in \u001b[0;36m<module>\u001b[0;34m()\u001b[0m\n\u001b[0;32m----> 1\u001b[0;31m \u001b[0mbd_sym\u001b[0m \u001b[0;34m=\u001b[0m \u001b[0mcytnx\u001b[0m\u001b[0;34m.\u001b[0m\u001b[0mBond\u001b[0m\u001b[0;34m(\u001b[0m\u001b[0;36m3\u001b[0m\u001b[0;34m,\u001b[0m\u001b[0mcytnx\u001b[0m\u001b[0;34m.\u001b[0m\u001b[0mbondType\u001b[0m\u001b[0;34m.\u001b[0m\u001b[0mBD_REG\u001b[0m\u001b[0;34m,\u001b[0m\u001b[0;34m[\u001b[0m\u001b[0;34m[\u001b[0m\u001b[0;36m0\u001b[0m\u001b[0;34m,\u001b[0m\u001b[0;34m-\u001b[0m\u001b[0;36m2\u001b[0m\u001b[0;34m]\u001b[0m\u001b[0;34m,\u001b[0m\u001b[0;34m[\u001b[0m\u001b[0;36m1\u001b[0m\u001b[0;34m,\u001b[0m\u001b[0;36m2\u001b[0m\u001b[0;34m]\u001b[0m\u001b[0;34m,\u001b[0m\u001b[0;34m[\u001b[0m\u001b[0;36m2\u001b[0m\u001b[0;34m,\u001b[0m\u001b[0;34m-\u001b[0m\u001b[0;36m30000\u001b[0m\u001b[0;34m]\u001b[0m\u001b[0;34m]\u001b[0m\u001b[0;34m,\u001b[0m\u001b[0;34m[\u001b[0m\u001b[0mcytnx\u001b[0m\u001b[0;34m.\u001b[0m\u001b[0mSymmetry\u001b[0m\u001b[0;34m.\u001b[0m\u001b[0mZn\u001b[0m\u001b[0;34m(\u001b[0m\u001b[0;36m2\u001b[0m\u001b[0;34m)\u001b[0m\u001b[0;34m,\u001b[0m\u001b[0mcytnx\u001b[0m\u001b[0;34m.\u001b[0m\u001b[0mSymmetry\u001b[0m\u001b[0;34m.\u001b[0m\u001b[0mU1\u001b[0m\u001b[0;34m(\u001b[0m\u001b[0;34m)\u001b[0m\u001b[0;34m]\u001b[0m\u001b[0;34m)\u001b[0m\u001b[0;34m\u001b[0m\u001b[0;34m\u001b[0m\u001b[0m\n\u001b[0m\u001b[1;32m      2\u001b[0m \u001b[0;34m\u001b[0m\u001b[0m\n\u001b[1;32m      3\u001b[0m \u001b[0mprint\u001b[0m\u001b[0;34m(\u001b[0m\u001b[0mbd_sym\u001b[0m\u001b[0;34m.\u001b[0m\u001b[0mNsym\u001b[0m\u001b[0;34m(\u001b[0m\u001b[0;34m)\u001b[0m\u001b[0;34m)\u001b[0m\u001b[0;34m\u001b[0m\u001b[0;34m\u001b[0m\u001b[0m\n\u001b[1;32m      4\u001b[0m \u001b[0mprint\u001b[0m\u001b[0;34m(\u001b[0m\u001b[0mbd_sym\u001b[0m\u001b[0;34m.\u001b[0m\u001b[0msyms\u001b[0m\u001b[0;34m(\u001b[0m\u001b[0;34m)\u001b[0m\u001b[0;34m)\u001b[0m\u001b[0;34m\u001b[0m\u001b[0;34m\u001b[0m\u001b[0m\n\u001b[1;32m      5\u001b[0m \u001b[0mprint\u001b[0m\u001b[0;34m(\u001b[0m\u001b[0mbd_sym\u001b[0m\u001b[0;34m.\u001b[0m\u001b[0mqnums\u001b[0m\u001b[0;34m(\u001b[0m\u001b[0;34m)\u001b[0m\u001b[0;34m)\u001b[0m\u001b[0;34m\u001b[0m\u001b[0;34m\u001b[0m\u001b[0m\n",
      "\u001b[0;31mRuntimeError\u001b[0m: \n# Cytnx error occur at void cytnx::Bond_impl::Init(const cytnx::cytnx_uint64 &, const cytnx::bondType &, const std::vector<std::vector<cytnx_int64> > &, const std::vector<Symmetry> &)\n# error: [ERROR] invalid qnums @ index 2 with Symmetry: Z2\n\n# file : src/Bond.cpp (45)"
     ]
    }
   ],
   "source": [
    "bd_sym = cytnx.Bond(3,cytnx.bondType.BD_REG,[[0,-2],[1,2],[2,-30000]],[cytnx.Symmetry.Zn(2),cytnx.Symmetry.U1()])\n",
    "\n",
    "print(bd_sym.Nsym())\n",
    "print(bd_sym.syms())\n",
    "print(bd_sym.qnums())"
   ]
  },
  {
   "cell_type": "markdown",
   "metadata": {},
   "source": [
    "## UniTensors"
   ]
  },
  {
   "cell_type": "code",
   "execution_count": 16,
   "metadata": {},
   "outputs": [
    {
     "name": "stdout",
     "output_type": "stream",
     "text": [
      "-----------------------\n",
      "tensor Name : \n",
      "tensor Rank : 2\n",
      "block_form  : false\n",
      "is_diag     : False\n",
      "on device   : cytnx device: CPU\n",
      "            -------------      \n",
      "           /             \\     \n",
      "     0 ____| 2         2 |____ 1  \n",
      "           \\             /     \n",
      "            -------------      \n",
      "\n",
      "Total elem: 4\n",
      "type  : Double (Float64)\n",
      "cytnx device: CPU\n",
      "Shape : (2,2)\n",
      "[[1.00000e+00 1.00000e+00 ]\n",
      " [1.00000e+00 1.00000e+00 ]]\n",
      "\n",
      "\n"
     ]
    },
    {
     "data": {
      "text/plain": []
     },
     "execution_count": 16,
     "metadata": {},
     "output_type": "execute_result"
    }
   ],
   "source": [
    "T = cytnx.UniTensor( cytnx.ones([2,2]), 1)\n",
    "T.print_diagram()\n",
    "\n",
    "T.get_block()"
   ]
  },
  {
   "cell_type": "code",
   "execution_count": 17,
   "metadata": {},
   "outputs": [
    {
     "name": "stdout",
     "output_type": "stream",
     "text": [
      "\n",
      "Total elem: 4\n",
      "type  : Double (Float64)\n",
      "cytnx device: CPU\n",
      "Shape : (2,2)\n",
      "[[-0.00000e+00 -0.00000e+00 ]\n",
      " [-9.88131e-324 2.82465e-309 ]]\n",
      "\n",
      "\n",
      "\n",
      "\n",
      "Total elem: 4\n",
      "type  : Double (Float64)\n",
      "cytnx device: CPU\n",
      "Shape : (2,2)\n",
      "[[0.00000e+00 1.00000e+00 ]\n",
      " [1.00000e+00 0.00000e+00 ]]\n",
      "\n",
      "\n",
      "\n",
      "[2, 2]\n",
      "Tensor name: T\n",
      "braket_form : False\n",
      "is_diag    : False\n",
      "\n",
      "Total elem: 4\n",
      "type  : Double (Float64)\n",
      "cytnx device: CPU\n",
      "Shape : (2,2)\n",
      "[[0.00000e+00 1.00000e+00 ]\n",
      " [1.00000e+00 0.00000e+00 ]]\n",
      "\n",
      "\n",
      "\n",
      "\n",
      "-----------------------\n",
      "tensor Name : T\n",
      "tensor Rank : 2\n",
      "block_form  : false\n",
      "is_diag     : False\n",
      "on device   : cytnx device: CPU\n",
      "            -------------      \n",
      "           /             \\     \n",
      "     0 ____| 2         2 |____ 1  \n",
      "           \\             /     \n",
      "            -------------      \n",
      "\n",
      "Total elem: 4\n",
      "type  : Double (Float64)\n",
      "cytnx device: CPU\n",
      "Shape : (2,2)\n",
      "[[0.00000e+00 1.00000e+00 ]\n",
      " [1.00000e+00 0.00000e+00 ]]\n",
      "\n",
      "\n",
      "\n"
     ]
    }
   ],
   "source": [
    "A = cytnx.Tensor([2,2])\n",
    "print(A)\n",
    "\n",
    "A[0, 0] = 0.0\n",
    "A[0, 1] = 1.0\n",
    "A[1, 0] = 1.0\n",
    "A[1, 1] = 0.0\n",
    "print(A)\n",
    "print(A.shape())\n",
    "\n",
    "T = cytnx.UniTensor(A, 1)\n",
    "T.set_name('T')\n",
    "print(T)\n",
    "T.print_diagram()\n",
    "print(T.get_block())"
   ]
  },
  {
   "cell_type": "code",
   "execution_count": 18,
   "metadata": {},
   "outputs": [
    {
     "name": "stdout",
     "output_type": "stream",
     "text": [
      "\n",
      "Total elem: 4\n",
      "type  : Double (Float64)\n",
      "cytnx device: CPU\n",
      "Shape : (2,2)\n",
      "[[-0.00000e+00 -0.00000e+00 ]\n",
      " [-9.88131e-324 2.82465e-309 ]]\n",
      "\n",
      "\n",
      "\n",
      "\n",
      "Total elem: 4\n",
      "type  : Double (Float64)\n",
      "cytnx device: CPU\n",
      "Shape : (2,2)\n",
      "[[0.00000e+00 1.00000e+00 ]\n",
      " [1.00000e+00 0.00000e+00 ]]\n",
      "\n",
      "\n",
      "\n",
      "[2, 2]\n",
      "-----------------------\n",
      "tensor Name : \n",
      "tensor Rank : 2\n",
      "block_form  : false\n",
      "is_diag     : False\n",
      "on device   : cytnx device: CPU\n",
      "            -------------      \n",
      "           /             \\     \n",
      "    10 ____| 2         2 |____ 11 \n",
      "           \\             /     \n",
      "            -------------      \n",
      "\n",
      "Total elem: 4\n",
      "type  : Double (Float64)\n",
      "cytnx device: CPU\n",
      "Shape : (2,2)\n",
      "[[0.00000e+00 1.00000e+00 ]\n",
      " [1.00000e+00 0.00000e+00 ]]\n",
      "\n",
      "\n",
      "\n"
     ]
    }
   ],
   "source": [
    "A = cytnx.Tensor([2,2])\n",
    "print(A)\n",
    "\n",
    "A[0, 0] = 0.0\n",
    "A[0, 1] = 1.0\n",
    "A[1, 0] = 1.0\n",
    "A[1, 1] = 0.0\n",
    "print(A)\n",
    "print(A.shape())\n",
    "\n",
    "bd = cytnx.Bond(2)\n",
    "\n",
    "T = cytnx.UniTensor(bonds=[bd, bd], in_labels=[10,11], Rowrank=1)\n",
    "T.put_block(A)\n",
    "T.print_diagram()\n",
    "print(T.get_block())"
   ]
  },
  {
   "cell_type": "code",
   "execution_count": 20,
   "metadata": {},
   "outputs": [
    {
     "name": "stdout",
     "output_type": "stream",
     "text": [
      "-----------------------\n",
      "tensor Name : \n",
      "tensor Rank : 2\n",
      "block_form  : false\n",
      "is_diag     : False\n",
      "on device   : cytnx device: CPU\n",
      "            -------------      \n",
      "           /             \\     \n",
      "     0 ____| 2           |        \n",
      "           |             |     \n",
      "     1 ____| 2           |        \n",
      "           \\             /     \n",
      "            -------------      \n"
     ]
    }
   ],
   "source": [
    "bd1 = cytnx.Bond(2)\n",
    "\n",
    "T = cytnx.UniTensor([bd1, bd1], Rowrank=2)\n",
    "T.print_diagram()"
   ]
  },
  {
   "cell_type": "code",
   "execution_count": 21,
   "metadata": {},
   "outputs": [
    {
     "name": "stdout",
     "output_type": "stream",
     "text": [
      "-----------------------\n",
      "tensor Name : \n",
      "tensor Rank : 1\n",
      "block_form  : false\n",
      "is_diag     : False\n",
      "on device   : cytnx device: CPU\n",
      "braket_form : True\n",
      "      |ket>               <bra| \n",
      "           ---------------      \n",
      "           |             |     \n",
      "     0 > __| 2           |        \n",
      "           |             |     \n",
      "           ---------------     \n"
     ]
    }
   ],
   "source": [
    "ket = cytnx.Bond(2, cytnx.bondType.BD_KET)\n",
    "T_ket = cytnx.UniTensor([ket])\n",
    "T_ket.print_diagram()"
   ]
  },
  {
   "cell_type": "code",
   "execution_count": 22,
   "metadata": {},
   "outputs": [
    {
     "name": "stdout",
     "output_type": "stream",
     "text": [
      "-----------------------\n",
      "tensor Name : \n",
      "tensor Rank : 1\n",
      "block_form  : false\n",
      "is_diag     : False\n",
      "on device   : cytnx device: CPU\n",
      "braket_form : True\n",
      "      |ket>               <bra| \n",
      "           ---------------      \n",
      "           |             |     \n",
      "           |         2   |__ < 0  \n",
      "           |             |     \n",
      "           ---------------     \n"
     ]
    }
   ],
   "source": [
    "bra = cytnx.Bond(2, cytnx.bondType.BD_BRA)\n",
    "T_bra = cytnx.UniTensor([bra])\n",
    "T_bra.print_diagram()"
   ]
  },
  {
   "cell_type": "code",
   "execution_count": 23,
   "metadata": {},
   "outputs": [
    {
     "name": "stdout",
     "output_type": "stream",
     "text": [
      "-----------------------\n",
      "tensor Name : \n",
      "tensor Rank : 2\n",
      "block_form  : false\n",
      "is_diag     : False\n",
      "on device   : cytnx device: CPU\n",
      "braket_form : True\n",
      "      |ket>               <bra| \n",
      "           ---------------      \n",
      "           |             |     \n",
      "     0 > __| 2       2   |__ < 1  \n",
      "           |             |     \n",
      "           ---------------     \n"
     ]
    }
   ],
   "source": [
    "T_ketbra = cytnx.UniTensor([ket, bra])\n",
    "T_ketbra.print_diagram()"
   ]
  },
  {
   "cell_type": "code",
   "execution_count": 24,
   "metadata": {},
   "outputs": [
    {
     "name": "stdout",
     "output_type": "stream",
     "text": [
      "-----------------------\n",
      "tensor Name : \n",
      "tensor Rank : 2\n",
      "block_form  : false\n",
      "is_diag     : False\n",
      "on device   : cytnx device: CPU\n",
      "braket_form : False\n",
      "      |ket>               <bra| \n",
      "           ---------------      \n",
      "           |             |     \n",
      "     0 <*__| 2       2   |__*> 1  \n",
      "           |             |     \n",
      "           ---------------     \n"
     ]
    }
   ],
   "source": [
    "# non-braket form\n",
    "T_braket = cytnx.UniTensor([bra, ket])\n",
    "T_braket.print_diagram()"
   ]
  },
  {
   "cell_type": "code",
   "execution_count": 25,
   "metadata": {},
   "outputs": [
    {
     "name": "stdout",
     "output_type": "stream",
     "text": [
      "Dim = 10 |type: <BRA     \n",
      "\n",
      "\n",
      "Dim = 3 |type: KET>     \n",
      " Z2::  +0 +1 +1\n",
      " U1::  +2 +2 +3\n",
      "\n",
      "\n",
      "True\n",
      "-----------------------\n",
      "tensor Name : \n",
      "tensor Rank : 3\n",
      "block_form  : false\n",
      "is_diag     : False\n",
      "on device   : cytnx device: CPU\n",
      "            -------------      \n",
      "           /             \\     \n",
      "     0 ____| 3         4 |____ 2  \n",
      "           |             |     \n",
      "     1 ____| 2           |        \n",
      "           \\             /     \n",
      "            -------------      \n",
      "-----------------------\n",
      "tensor Name : \n",
      "tensor Rank : 3\n",
      "block_form  : false\n",
      "is_diag     : False\n",
      "on device   : cytnx device: CPU\n",
      "            -------------      \n",
      "           /             \\     \n",
      "     0 ____| 3         4 |____ 2  \n",
      "           |             |     \n",
      "           |           2 |____ 1  \n",
      "           \\             /     \n",
      "            -------------      \n",
      "Tensor name: \n",
      "braket_form : False\n",
      "is_diag    : False\n",
      "\n",
      "Total elem: 24\n",
      "type  : Double (Float64)\n",
      "cytnx device: CPU\n",
      "Shape : (3,4,2)\n",
      "[[[0.00000e+00 0.00000e+00 ]\n",
      "  [0.00000e+00 0.00000e+00 ]\n",
      "  [0.00000e+00 0.00000e+00 ]\n",
      "  [0.00000e+00 0.00000e+00 ]]\n",
      " [[0.00000e+00 0.00000e+00 ]\n",
      "  [0.00000e+00 0.00000e+00 ]\n",
      "  [0.00000e+00 0.00000e+00 ]\n",
      "  [0.00000e+00 0.00000e+00 ]]\n",
      " [[0.00000e+00 0.00000e+00 ]\n",
      "  [0.00000e+00 0.00000e+00 ]\n",
      "  [0.00000e+00 0.00000e+00 ]\n",
      "  [0.00000e+00 0.00000e+00 ]]]\n",
      "\n",
      "\n",
      "\n",
      "\n",
      "-----------------------\n",
      "tensor Name : \n",
      "tensor Rank : 2\n",
      "block_form  : false\n",
      "is_diag     : False\n",
      "on device   : cytnx device: CPU\n",
      "            -------------      \n",
      "           /             \\     \n",
      "           |           4 |____ 0  \n",
      "           |             |     \n",
      "           |           2 |____ 1  \n",
      "           \\             /     \n",
      "            -------------      \n",
      "-----------------------\n",
      "tensor Name : \n",
      "tensor Rank : 2\n",
      "block_form  : false\n",
      "is_diag     : False\n",
      "on device   : cytnx device: CPU\n",
      "            -------------      \n",
      "           /             \\     \n",
      "           |           6 |____ 0  \n",
      "           |             |     \n",
      "           |           4 |____ 1  \n",
      "           \\             /     \n",
      "            -------------      \n"
     ]
    }
   ],
   "source": [
    "bd_in = cytnx.Bond(10,cytnx.bondType.BD_BRA);\n",
    "print(bd_in)\n",
    "\n",
    "bd_sym = cytnx.Bond(3,cytnx.bondType.BD_KET,\\\n",
    "                        [[0,2],[1,2],[1,3]],\\\n",
    "                        [cytnx.Symmetry.Zn(2),\\\n",
    "                         cytnx.Symmetry.U1()])\n",
    "print(bd_sym)\n",
    "\n",
    "print(bd_sym == bd_sym)\n",
    "bd_1 = cytnx.Bond(3)\n",
    "bd_2 = cytnx.Bond(2)\n",
    "bd_3 = cytnx.Bond(4)\n",
    "\n",
    "U = cytnx.UniTensor([bd_1,bd_2,bd_3],Rowrank=2,dtype=cytnx.Type.Double)\n",
    "U.print_diagram()\n",
    "U.permute_(0,2,1,Rowrank=1)\n",
    "U.print_diagram()\n",
    "print(U)\n",
    "X = U[0,:,:]\n",
    "X.print_diagram()\n",
    "\n",
    "U.reshape_(6,-1)\n",
    "U.print_diagram()"
   ]
  },
  {
   "cell_type": "code",
   "execution_count": 26,
   "metadata": {},
   "outputs": [],
   "source": [
    "U.set_labels([1,2])"
   ]
  },
  {
   "cell_type": "code",
   "execution_count": 27,
   "metadata": {},
   "outputs": [
    {
     "name": "stdout",
     "output_type": "stream",
     "text": [
      "-----------------------\n",
      "tensor Name : \n",
      "tensor Rank : 2\n",
      "block_form  : false\n",
      "is_diag     : False\n",
      "on device   : cytnx device: CPU\n",
      "            -------------      \n",
      "           /             \\     \n",
      "           |           6 |____ 1  \n",
      "           |             |     \n",
      "           |           4 |____ 2  \n",
      "           \\             /     \n",
      "            -------------      \n"
     ]
    }
   ],
   "source": [
    "U.print_diagram()"
   ]
  },
  {
   "cell_type": "code",
   "execution_count": 28,
   "metadata": {},
   "outputs": [
    {
     "data": {
      "text/plain": [
       "\u001b[0;31mDocstring:\u001b[0m      <no docstring>\n",
       "\u001b[0;31mInit docstring:\u001b[0m\n",
       "__init__(*args, **kwargs)\n",
       "Overloaded function.\n",
       "\n",
       "1. __init__(self: cytnx.cytnx.UniTensor) -> None\n",
       "\n",
       "2. __init__(self: cytnx.cytnx.UniTensor, arg0: cytnx.cytnx.Tensor, arg1: int) -> None\n",
       "\n",
       "3. __init__(self: cytnx.cytnx.UniTensor, bonds: List[cytnx.cytnx.Bond], in_labels: List[int]=[], Rowrank: int=-1, dtype: int=3, device: int=-1, is_diag: bool=False) -> None\n",
       "\u001b[0;31mFile:\u001b[0m           ~/repos/TensorNetwork/Cytnx/cytnx/cytnx.cpython-36m-darwin.so\n",
       "\u001b[0;31mType:\u001b[0m           pybind11_type\n"
      ]
     },
     "metadata": {},
     "output_type": "display_data"
    }
   ],
   "source": [
    "?cytnx.UniTensor"
   ]
  },
  {
   "cell_type": "code",
   "execution_count": null,
   "metadata": {},
   "outputs": [],
   "source": []
  }
 ],
 "metadata": {
  "kernelspec": {
   "display_name": "Python 3",
   "language": "python",
   "name": "python3"
  },
  "language_info": {
   "codemirror_mode": {
    "name": "ipython",
    "version": 3
   },
   "file_extension": ".py",
   "mimetype": "text/x-python",
   "name": "python",
   "nbconvert_exporter": "python",
   "pygments_lexer": "ipython3",
   "version": "3.6.8"
  }
 },
 "nbformat": 4,
 "nbformat_minor": 2
}
